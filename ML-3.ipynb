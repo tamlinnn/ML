{
 "cells": [
  {
   "cell_type": "code",
   "execution_count": 340,
   "id": "57b0bfdf",
   "metadata": {},
   "outputs": [],
   "source": [
    "import numpy as np\n",
    "import pandas as pd\n",
    "import matplotlib.pyplot as plt\n",
    "#import tabulate\n",
    "\n",
    "#from sklearn import datasets\n",
    "#from sklearn.datasets import make_blobs\n",
    "from sklearn.model_selection import train_test_split\n",
    "from sklearn.preprocessing import StandardScaler\n",
    "from sklearn.linear_model import LogisticRegression\n",
    "from sklearn.model_selection import train_test_split\n",
    "from sklearn.preprocessing import LabelEncoder\n",
    "le = LabelEncoder()\n",
    "from sklearn.pipeline import make_pipeline\n",
    "\n",
    "#для расчета ROC-кривой\n",
    "from sklearn.metrics import roc_curve\n",
    "from sklearn.metrics import roc_auc_score\n",
    "from sklearn.metrics import auc\n",
    "\n",
    "#from sklearn.metrics import accuracy_score #доля правильных ответов в классификации\n",
    "#from sklearn.metrics import mean_squared_error"
   ]
  },
  {
   "cell_type": "markdown",
   "id": "c98f5ec0",
   "metadata": {},
   "source": [
    "**Загрузим датасет и проверим на наличие нулевых значений.**"
   ]
  },
  {
   "cell_type": "code",
   "execution_count": 152,
   "id": "3f84d322",
   "metadata": {},
   "outputs": [
    {
     "name": "stdout",
     "output_type": "stream",
     "text": [
      "<class 'pandas.core.frame.DataFrame'>\n",
      "RangeIndex: 48842 entries, 0 to 48841\n",
      "Data columns (total 15 columns):\n",
      " #   Column           Non-Null Count  Dtype \n",
      "---  ------           --------------  ----- \n",
      " 0   age              48842 non-null  int64 \n",
      " 1   workclass        48842 non-null  object\n",
      " 2   fnlwgt           48842 non-null  int64 \n",
      " 3   education        48842 non-null  object\n",
      " 4   educational-num  48842 non-null  int64 \n",
      " 5   marital-status   48842 non-null  object\n",
      " 6   occupation       48842 non-null  object\n",
      " 7   relationship     48842 non-null  object\n",
      " 8   race             48842 non-null  object\n",
      " 9   gender           48842 non-null  object\n",
      " 10  capital-gain     48842 non-null  int64 \n",
      " 11  capital-loss     48842 non-null  int64 \n",
      " 12  hours-per-week   48842 non-null  int64 \n",
      " 13  native-country   48842 non-null  object\n",
      " 14  income           48842 non-null  object\n",
      "dtypes: int64(6), object(9)\n",
      "memory usage: 5.6+ MB\n"
     ]
    }
   ],
   "source": [
    "data=pd.read_csv('C:/Users/Лина/Downloads/Обучение/Машинное обучение/Оценка точности модели, переобучение, регуляризация/ДЗ/adult.csv', delimiter=',')\n",
    "data.info()"
   ]
  },
  {
   "cell_type": "markdown",
   "id": "3b53df28",
   "metadata": {},
   "source": [
    "**Выберем первоначальный набор признаков для обучения и целевой столбец.**"
   ]
  },
  {
   "cell_type": "code",
   "execution_count": 153,
   "id": "328bd49a",
   "metadata": {},
   "outputs": [
    {
     "data": {
      "text/plain": [
       "Prof-specialty       6172\n",
       "Craft-repair         6112\n",
       "Exec-managerial      6086\n",
       "Adm-clerical         5611\n",
       "Sales                5504\n",
       "Other-service        4923\n",
       "Machine-op-inspct    3022\n",
       "?                    2809\n",
       "Transport-moving     2355\n",
       "Handlers-cleaners    2072\n",
       "Farming-fishing      1490\n",
       "Tech-support         1446\n",
       "Protective-serv       983\n",
       "Priv-house-serv       242\n",
       "Armed-Forces           15\n",
       "Name: occupation, dtype: int64"
      ]
     },
     "execution_count": 153,
     "metadata": {},
     "output_type": "execute_result"
    }
   ],
   "source": [
    "selectedColumns = data[['educational-num', 'occupation', 'hours-per-week', 'income']]\n",
    "selectedColumns['occupation'].value_counts()"
   ]
  },
  {
   "cell_type": "markdown",
   "id": "70860492",
   "metadata": {},
   "source": [
    "**Исключим записи, где в значении occupation стоит знак '?', т.к. это значение для обучения равносильно 'non'**"
   ]
  },
  {
   "cell_type": "code",
   "execution_count": 154,
   "id": "65fa8429",
   "metadata": {},
   "outputs": [
    {
     "data": {
      "text/plain": [
       "Prof-specialty       6172\n",
       "Craft-repair         6112\n",
       "Exec-managerial      6086\n",
       "Adm-clerical         5611\n",
       "Sales                5504\n",
       "Other-service        4923\n",
       "Machine-op-inspct    3022\n",
       "Transport-moving     2355\n",
       "Handlers-cleaners    2072\n",
       "Farming-fishing      1490\n",
       "Tech-support         1446\n",
       "Protective-serv       983\n",
       "Priv-house-serv       242\n",
       "Armed-Forces           15\n",
       "Name: occupation, dtype: int64"
      ]
     },
     "execution_count": 154,
     "metadata": {},
     "output_type": "execute_result"
    }
   ],
   "source": [
    "selectedColumns = selectedColumns[~(selectedColumns['occupation']=='?')]\n",
    "selectedColumns['occupation'].value_counts()"
   ]
  },
  {
   "cell_type": "markdown",
   "id": "d3ddfe02",
   "metadata": {},
   "source": [
    "**Преобразуем столбец 'occupation' в числовой формат. Создадим тренировочное множество X и исключаем из него целевой столбец 'income'.**"
   ]
  },
  {
   "cell_type": "code",
   "execution_count": 155,
   "id": "1ca44262",
   "metadata": {},
   "outputs": [
    {
     "data": {
      "text/html": [
       "<div>\n",
       "<style scoped>\n",
       "    .dataframe tbody tr th:only-of-type {\n",
       "        vertical-align: middle;\n",
       "    }\n",
       "\n",
       "    .dataframe tbody tr th {\n",
       "        vertical-align: top;\n",
       "    }\n",
       "\n",
       "    .dataframe thead th {\n",
       "        text-align: right;\n",
       "    }\n",
       "</style>\n",
       "<table border=\"1\" class=\"dataframe\">\n",
       "  <thead>\n",
       "    <tr style=\"text-align: right;\">\n",
       "      <th></th>\n",
       "      <th>educational-num</th>\n",
       "      <th>hours-per-week</th>\n",
       "      <th>occupation_Adm-clerical</th>\n",
       "      <th>occupation_Armed-Forces</th>\n",
       "      <th>occupation_Craft-repair</th>\n",
       "      <th>occupation_Exec-managerial</th>\n",
       "      <th>occupation_Farming-fishing</th>\n",
       "      <th>occupation_Handlers-cleaners</th>\n",
       "      <th>occupation_Machine-op-inspct</th>\n",
       "      <th>occupation_Other-service</th>\n",
       "      <th>occupation_Priv-house-serv</th>\n",
       "      <th>occupation_Prof-specialty</th>\n",
       "      <th>occupation_Protective-serv</th>\n",
       "      <th>occupation_Sales</th>\n",
       "      <th>occupation_Tech-support</th>\n",
       "      <th>occupation_Transport-moving</th>\n",
       "    </tr>\n",
       "  </thead>\n",
       "  <tbody>\n",
       "    <tr>\n",
       "      <th>0</th>\n",
       "      <td>7</td>\n",
       "      <td>40</td>\n",
       "      <td>0</td>\n",
       "      <td>0</td>\n",
       "      <td>0</td>\n",
       "      <td>0</td>\n",
       "      <td>0</td>\n",
       "      <td>0</td>\n",
       "      <td>1</td>\n",
       "      <td>0</td>\n",
       "      <td>0</td>\n",
       "      <td>0</td>\n",
       "      <td>0</td>\n",
       "      <td>0</td>\n",
       "      <td>0</td>\n",
       "      <td>0</td>\n",
       "    </tr>\n",
       "    <tr>\n",
       "      <th>1</th>\n",
       "      <td>9</td>\n",
       "      <td>50</td>\n",
       "      <td>0</td>\n",
       "      <td>0</td>\n",
       "      <td>0</td>\n",
       "      <td>0</td>\n",
       "      <td>1</td>\n",
       "      <td>0</td>\n",
       "      <td>0</td>\n",
       "      <td>0</td>\n",
       "      <td>0</td>\n",
       "      <td>0</td>\n",
       "      <td>0</td>\n",
       "      <td>0</td>\n",
       "      <td>0</td>\n",
       "      <td>0</td>\n",
       "    </tr>\n",
       "    <tr>\n",
       "      <th>2</th>\n",
       "      <td>12</td>\n",
       "      <td>40</td>\n",
       "      <td>0</td>\n",
       "      <td>0</td>\n",
       "      <td>0</td>\n",
       "      <td>0</td>\n",
       "      <td>0</td>\n",
       "      <td>0</td>\n",
       "      <td>0</td>\n",
       "      <td>0</td>\n",
       "      <td>0</td>\n",
       "      <td>0</td>\n",
       "      <td>1</td>\n",
       "      <td>0</td>\n",
       "      <td>0</td>\n",
       "      <td>0</td>\n",
       "    </tr>\n",
       "    <tr>\n",
       "      <th>3</th>\n",
       "      <td>10</td>\n",
       "      <td>40</td>\n",
       "      <td>0</td>\n",
       "      <td>0</td>\n",
       "      <td>0</td>\n",
       "      <td>0</td>\n",
       "      <td>0</td>\n",
       "      <td>0</td>\n",
       "      <td>1</td>\n",
       "      <td>0</td>\n",
       "      <td>0</td>\n",
       "      <td>0</td>\n",
       "      <td>0</td>\n",
       "      <td>0</td>\n",
       "      <td>0</td>\n",
       "      <td>0</td>\n",
       "    </tr>\n",
       "    <tr>\n",
       "      <th>5</th>\n",
       "      <td>6</td>\n",
       "      <td>30</td>\n",
       "      <td>0</td>\n",
       "      <td>0</td>\n",
       "      <td>0</td>\n",
       "      <td>0</td>\n",
       "      <td>0</td>\n",
       "      <td>0</td>\n",
       "      <td>0</td>\n",
       "      <td>1</td>\n",
       "      <td>0</td>\n",
       "      <td>0</td>\n",
       "      <td>0</td>\n",
       "      <td>0</td>\n",
       "      <td>0</td>\n",
       "      <td>0</td>\n",
       "    </tr>\n",
       "  </tbody>\n",
       "</table>\n",
       "</div>"
      ],
      "text/plain": [
       "   educational-num  hours-per-week  occupation_Adm-clerical  \\\n",
       "0                7              40                        0   \n",
       "1                9              50                        0   \n",
       "2               12              40                        0   \n",
       "3               10              40                        0   \n",
       "5                6              30                        0   \n",
       "\n",
       "   occupation_Armed-Forces  occupation_Craft-repair  \\\n",
       "0                        0                        0   \n",
       "1                        0                        0   \n",
       "2                        0                        0   \n",
       "3                        0                        0   \n",
       "5                        0                        0   \n",
       "\n",
       "   occupation_Exec-managerial  occupation_Farming-fishing  \\\n",
       "0                           0                           0   \n",
       "1                           0                           1   \n",
       "2                           0                           0   \n",
       "3                           0                           0   \n",
       "5                           0                           0   \n",
       "\n",
       "   occupation_Handlers-cleaners  occupation_Machine-op-inspct  \\\n",
       "0                             0                             1   \n",
       "1                             0                             0   \n",
       "2                             0                             0   \n",
       "3                             0                             1   \n",
       "5                             0                             0   \n",
       "\n",
       "   occupation_Other-service  occupation_Priv-house-serv  \\\n",
       "0                         0                           0   \n",
       "1                         0                           0   \n",
       "2                         0                           0   \n",
       "3                         0                           0   \n",
       "5                         1                           0   \n",
       "\n",
       "   occupation_Prof-specialty  occupation_Protective-serv  occupation_Sales  \\\n",
       "0                          0                           0                 0   \n",
       "1                          0                           0                 0   \n",
       "2                          0                           1                 0   \n",
       "3                          0                           0                 0   \n",
       "5                          0                           0                 0   \n",
       "\n",
       "   occupation_Tech-support  occupation_Transport-moving  \n",
       "0                        0                            0  \n",
       "1                        0                            0  \n",
       "2                        0                            0  \n",
       "3                        0                            0  \n",
       "5                        0                            0  "
      ]
     },
     "execution_count": 155,
     "metadata": {},
     "output_type": "execute_result"
    }
   ],
   "source": [
    "X = pd.get_dummies(selectedColumns, columns=['occupation'])\n",
    "del X['income']\n",
    "X.head()"
   ]
  },
  {
   "cell_type": "markdown",
   "id": "61849395",
   "metadata": {},
   "source": [
    "**Создадим целевое множество и преобразуем целевое поле 'income' в набор 0 и 1.**"
   ]
  },
  {
   "cell_type": "code",
   "execution_count": 207,
   "id": "c841b4fa",
   "metadata": {},
   "outputs": [
    {
     "data": {
      "text/plain": [
       "0    0\n",
       "1    0\n",
       "2    1\n",
       "3    1\n",
       "4    0\n",
       "dtype: int32"
      ]
     },
     "execution_count": 207,
     "metadata": {},
     "output_type": "execute_result"
    }
   ],
   "source": [
    "le.fit(selectedColumns['income'])\n",
    "le.classes_\n",
    "y = pd.Series(data=le.transform(selectedColumns['income']))\n",
    "y.head()"
   ]
  },
  {
   "cell_type": "markdown",
   "id": "790dbbd1",
   "metadata": {},
   "source": [
    "**Делим выборку на тренировочную и тестовую.**"
   ]
  },
  {
   "cell_type": "code",
   "execution_count": 280,
   "id": "39c67723",
   "metadata": {},
   "outputs": [
    {
     "data": {
      "text/plain": [
       "True"
      ]
     },
     "execution_count": 280,
     "metadata": {},
     "output_type": "execute_result"
    }
   ],
   "source": [
    "X_train, X_test, y_train, y_test = train_test_split(X, y, test_size = 0.2, random_state = 42)\n",
    "len(X_train) + len(X_test) == len(X)"
   ]
  },
  {
   "cell_type": "markdown",
   "id": "3271caba",
   "metadata": {},
   "source": [
    "**Создаем модель машинного обучения логической регрессии. Запускаем обучение.**"
   ]
  },
  {
   "cell_type": "code",
   "execution_count": 281,
   "id": "86b94aea",
   "metadata": {},
   "outputs": [
    {
     "data": {
      "text/plain": [
       "array([[0.55579147, 0.44420853],\n",
       "       [0.62110932, 0.37889068],\n",
       "       [0.50739224, 0.49260776],\n",
       "       ...,\n",
       "       [0.86657218, 0.13342782],\n",
       "       [0.99331788, 0.00668212],\n",
       "       [0.89758698, 0.10241302]])"
      ]
     },
     "execution_count": 281,
     "metadata": {},
     "output_type": "execute_result"
    }
   ],
   "source": [
    "model = make_pipeline(\n",
    "StandardScaler(),\n",
    "LogisticRegression(max_iter=1000))\n",
    "\n",
    "#обучаем модель\n",
    "model.fit(X_train,y_train)\n",
    "predictions = model.predict(X_test)\n",
    "predictions[:100]\n",
    "model.predict_proba(X_test)"
   ]
  },
  {
   "cell_type": "markdown",
   "id": "3dbf212e",
   "metadata": {},
   "source": [
    "**Построим ROC-кривую (Receiver Operating Characteristic).**"
   ]
  },
  {
   "cell_type": "code",
   "execution_count": 283,
   "id": "2c963b7a",
   "metadata": {},
   "outputs": [
    {
     "name": "stdout",
     "output_type": "stream",
     "text": [
      "(0.0, 0.0, 2)\n",
      "(0.06499562809676479, 0.3304904051172708, 1)\n",
      "(1.0, 1.0, 0)\n"
     ]
    }
   ],
   "source": [
    "# получаем значения false и true positive rate для различных значений порога\n",
    "fpr, tpr, thres = roc_curve(y_test, predictions)\n",
    "\n",
    "for line in zip(fpr[:10], tpr[:10], thres[:10]):\n",
    "    print(line)"
   ]
  },
  {
   "cell_type": "code",
   "execution_count": 349,
   "id": "25e059cb",
   "metadata": {},
   "outputs": [
    {
     "data": {
      "image/png": "[encoded data removed]",
      "text/plain": [
       "<Figure size 432x288 with 1 Axes>"
      ]
     },
     "metadata": {
      "needs_background": "light"
     },
     "output_type": "display_data"
    }
   ],
   "source": [
    "plt.plot(fpr, tpr, label = 'Библиотека sklearn')\n",
    "\n",
    "# Добавляем диагональ под 45 градусов\n",
    "plt.plot([0, 1], [0, 1], color='black', linestyle='dashed', label='Диагональ')\n",
    "\n",
    "plt.legend()\n",
    "plt.xlabel('FPR')\n",
    "plt.ylabel('TPR')\n",
    "plt.title('ROC Curve')\n",
    "plt.grid()"
   ]
  },
  {
   "cell_type": "markdown",
   "id": "edde2064",
   "metadata": {},
   "source": [
    "**Выяислим значение ROC-AUC метрики.**"
   ]
  },
  {
   "cell_type": "code",
   "execution_count": 285,
   "id": "1b07abab",
   "metadata": {},
   "outputs": [
    {
     "data": {
      "text/plain": [
       "0.632747388510253"
      ]
     },
     "execution_count": 285,
     "metadata": {},
     "output_type": "execute_result"
    }
   ],
   "source": [
    "roc_auc_score(y_test, predictions)"
   ]
  },
  {
   "cell_type": "markdown",
   "id": "cb0387e6",
   "metadata": {},
   "source": [
    "**Рассчитаем метрики TPR, FPR «вручную», без использования готовых функций из библиотеки sklearn.**"
   ]
  },
  {
   "cell_type": "code",
   "execution_count": 335,
   "id": "2223413d",
   "metadata": {},
   "outputs": [
    {
     "name": "stdout",
     "output_type": "stream",
     "text": [
      "(0.05, 0.07)\n",
      "(0.1, 0.14)\n",
      "(0.15, 0.21)\n",
      "(0.2, 0.28)\n",
      "(0.25, 0.35)\n",
      "(0.3, 0.42)\n",
      "(0.35, 0.49)\n",
      "(0.4, 0.56)\n",
      "(0.45, 0.63)\n",
      "(0.5, 0.7)\n",
      "(0.55, 0.77)\n",
      "(0.6, 0.84)\n",
      "(0.65, 0.91)\n",
      "(0.7, 0.98)\n",
      "(0.75, 1.05)\n",
      "(0.8, 1.12)\n",
      "(0.85, 1.19)\n",
      "(0.9, 1.26)\n",
      "(0.95, 1.33)\n",
      "(1.0, 1.4)\n"
     ]
    }
   ],
   "source": [
    "predictions = predictions[:100]\n",
    "y_test = y_test[:100]\n",
    "\n",
    "tp1 = []\n",
    "fp1 = []\n",
    "tn1 = []\n",
    "fn1 = []\n",
    "\n",
    "tp = 0\n",
    "fp = 0\n",
    "tn = 0\n",
    "fn = 0\n",
    "\n",
    "for i in range(20):\n",
    "    for i in range(len(predictions)):\n",
    "        if predictions[i] == 1 and y_test[i] == 1:\n",
    "            tp += 1\n",
    "    \n",
    "        elif predictions[i] == 1 and y_test[i] == 0:\n",
    "            fp += 1\n",
    "            \n",
    "        elif predictions[i] == 0 and y_test[i] == 0:\n",
    "            tn += 1\n",
    "            \n",
    "        elif predictions[i] == 0 and y_test[i] == 1:\n",
    "            fn += 1\n",
    "            \n",
    "    tp1.append(tp)\n",
    "    fp1.append(fp)\n",
    "    tn1.append(tn)\n",
    "    fn1.append(fn)\n",
    "\n",
    "tpr1 = list(map(lambda x: x / len(predictions), tp1))\n",
    "fpr1 = list(map(lambda x: x / len(predictions), fp1))\n",
    "    \n",
    "for line in zip(fpr1, tpr1):\n",
    "    print(line)"
   ]
  },
  {
   "cell_type": "markdown",
   "id": "8f5e2edf",
   "metadata": {},
   "source": [
    "**Построим ROC-кривую с помощью вычисленных вручную метрик FRP и TRP. Объединим графики метрик FRP и TRP рассчитанных вручную и с помощью библиотеки sklearn.**"
   ]
  },
  {
   "cell_type": "code",
   "execution_count": 347,
   "id": "6c8ab353",
   "metadata": {},
   "outputs": [
    {
     "data": {
      "image/png": "[encoded data removed]",
      "text/plain": [
       "<Figure size 432x288 with 1 Axes>"
      ]
     },
     "metadata": {
      "needs_background": "light"
     },
     "output_type": "display_data"
    }
   ],
   "source": [
    "plt.plot(fpr, tpr, label = 'Библиотека sklearn')\n",
    "plt.plot(fpr1, tpr1, label = 'Расчет вручную')\n",
    "\n",
    "# Добавляем диагональ под 45 градусов\n",
    "plt.plot([0, 1], [0, 1], color='black', linestyle='dashed', label='Диагональ')\n",
    "\n",
    "plt.legend()\n",
    "plt.xlabel('FPR')\n",
    "plt.ylabel('TPR')\n",
    "plt.title('ROC Curve')\n",
    "plt.grid()\n"
   ]
  },
  {
   "cell_type": "markdown",
   "id": "6afdc212",
   "metadata": {},
   "source": [
    "**Построим график Precision-Recall, используя показатели TP, FP и FN, рассчитанные вручную.**"
   ]
  },
  {
   "cell_type": "code",
   "execution_count": 337,
   "id": "f3a0237f",
   "metadata": {},
   "outputs": [
    {
     "name": "stdout",
     "output_type": "stream",
     "text": [
      "[0.175, 0.35, 0.525, 0.7, 0.875, 1.05, 1.225, 1.4, 1.575, 1.75, 1.925, 2.1, 2.275, 2.45, 2.625, 2.8, 2.975, 3.15, 3.325, 3.5] [0.175, 0.35, 0.525, 0.7, 0.875, 1.05, 1.225, 1.4, 1.575, 1.75, 1.925, 2.1, 2.275, 2.45, 2.625, 2.8, 2.975, 3.15, 3.325, 3.5]\n"
     ]
    }
   ],
   "source": [
    "pr = list(map(lambda x: x / (len(tp1) + len(fp1)), tp1))\n",
    "re = list(map(lambda x: x / (len(tp1) + len(fn1)), tp1)) \n",
    "print(pr, re)"
   ]
  },
  {
   "cell_type": "code",
   "execution_count": 351,
   "id": "f421427e",
   "metadata": {},
   "outputs": [
    {
     "data": {
      "image/png": "[encoded data removed]",
      "text/plain": [
       "<Figure size 432x288 with 1 Axes>"
      ]
     },
     "metadata": {
      "needs_background": "light"
     },
     "output_type": "display_data"
    }
   ],
   "source": [
    "plt.plot(re, pr, label = 'Расчет вручную')\n",
    "\n",
    "# Добавляем диагональ под 45 градусов\n",
    "plt.plot([0, 3.5], [0, 3.5], color='black', linestyle='dashed', label='Диагональ')\n",
    "\n",
    "plt.legend()\n",
    "plt.xlabel('RE')\n",
    "plt.ylabel('PR')\n",
    "plt.title('Precision-Recall')\n",
    "plt.grid()\n",
    "plt.grid()"
   ]
  },
  {
   "cell_type": "markdown",
   "id": "988d0f39",
   "metadata": {},
   "source": [
    "**Вычислим значение ROC-AUC метрики, используя показатели TPR и FPR, рассчитанные вручную.**"
   ]
  },
  {
   "cell_type": "code",
   "execution_count": 342,
   "id": "08a3b6c2",
   "metadata": {},
   "outputs": [
    {
     "data": {
      "text/plain": [
       "0.6982499999999999"
      ]
     },
     "execution_count": 342,
     "metadata": {},
     "output_type": "execute_result"
    }
   ],
   "source": [
    "auc(fpr1, tpr1)"
   ]
  },
  {
   "cell_type": "markdown",
   "id": "21f51cc5",
   "metadata": {},
   "source": [
    "**Выводы.**"
   ]
  },
  {
   "cell_type": "markdown",
   "id": "d2fb859f",
   "metadata": {},
   "source": [
    "**1 - Как по полученным графикам сделать вывод о качестве модели? Как вы оцениваете обученную модель исходя из подсчитанных метрик?**\n",
    "*Если линия ROC-кривой проходит близко к диагонали, это указывает на низкую эффективность модели. При этом более быстрый подъем кривой вверх указывает на лучшую производительность модели. При переобучении модели, линия ROC-кривой может находиться ниже диагонали.\n",
    "Так как для нашей модели линия ROC-кривой находится достаточно близко к диагонали, можно сделать вывод, что она не достаточно эффективна (малая точность и специфичность), но вместе с тем не переобучена, так как линия находится не ниже диагонали.*\n",
    "\n",
    "**2 - Может ли ROC-кривая проходить ниже диагонали?**\n",
    "*На основании полученных графиков, можно сделать вывод, что ROC-кривая не может проходить ниже диагонали, если она не переобучена.*"
   ]
  },
  {
   "cell_type": "code",
   "execution_count": null,
   "id": "40544169",
   "metadata": {},
   "outputs": [],
   "source": []
  }
 ],
 "metadata": {
  "kernelspec": {
   "display_name": "Python 3 (ipykernel)",
   "language": "python",
   "name": "python3"
  },
  "language_info": {
   "codemirror_mode": {
    "name": "ipython",
    "version": 3
   },
   "file_extension": ".py",
   "mimetype": "text/x-python",
   "name": "python",
   "nbconvert_exporter": "python",
   "pygments_lexer": "ipython3",
   "version": "3.9.12"
  }
 },
 "nbformat": 4,
 "nbformat_minor": 5
}
