{
 "cells": [
  {
   "cell_type": "code",
   "execution_count": 587,
   "id": "57b0bfdf",
   "metadata": {},
   "outputs": [],
   "source": [
    "import numpy as np\n",
    "import pandas as pd\n",
    "import matplotlib.pyplot as plt\n",
    "#import tabulate\n",
    "\n",
    "#from sklearn import datasets\n",
    "#from sklearn.datasets import make_blobs\n",
    "from sklearn.model_selection import train_test_split\n",
    "from sklearn.preprocessing import StandardScaler\n",
    "from sklearn.linear_model import LogisticRegression\n",
    "from sklearn.model_selection import train_test_split\n",
    "from sklearn.preprocessing import LabelEncoder\n",
    "le = LabelEncoder()\n",
    "from sklearn.pipeline import make_pipeline\n",
    "\n",
    "#для расчета ROC-кривой\n",
    "from sklearn.metrics import roc_curve\n",
    "from sklearn.metrics import roc_auc_score\n",
    "from sklearn.metrics import auc\n",
    "\n",
    "#from sklearn.metrics import accuracy_score #доля правильных ответов в классификации\n",
    "#from sklearn.metrics import mean_squared_error"
   ]
  },
  {
   "cell_type": "markdown",
   "id": "c98f5ec0",
   "metadata": {},
   "source": [
    "**Загрузим датасет и проверим на наличие нулевых значений.**"
   ]
  },
  {
   "cell_type": "code",
   "execution_count": 588,
   "id": "3f84d322",
   "metadata": {},
   "outputs": [
    {
     "name": "stdout",
     "output_type": "stream",
     "text": [
      "<class 'pandas.core.frame.DataFrame'>\n",
      "RangeIndex: 11538 entries, 0 to 11537\n",
      "Data columns (total 11 columns):\n",
      " #   Column       Non-Null Count  Dtype  \n",
      "---  ------       --------------  -----  \n",
      " 0   id           11538 non-null  int64  \n",
      " 1   name         11538 non-null  object \n",
      " 2   nationality  11538 non-null  object \n",
      " 3   sex          11538 non-null  object \n",
      " 4   dob          11537 non-null  object \n",
      " 5   height       11208 non-null  float64\n",
      " 6   weight       10879 non-null  float64\n",
      " 7   sport        11538 non-null  object \n",
      " 8   gold         11538 non-null  int64  \n",
      " 9   silver       11538 non-null  int64  \n",
      " 10  bronze       11538 non-null  int64  \n",
      "dtypes: float64(2), int64(4), object(5)\n",
      "memory usage: 991.7+ KB\n"
     ]
    }
   ],
   "source": [
    "data=pd.read_csv('C:/Users/Лина/Downloads/Обучение/Машинное обучение/Оценка точности модели, переобучение, регуляризация/ДЗ/athletes.csv', delimiter=',')\n",
    "data.info()"
   ]
  },
  {
   "cell_type": "code",
   "execution_count": 589,
   "id": "29b61e5d",
   "metadata": {},
   "outputs": [
    {
     "name": "stdout",
     "output_type": "stream",
     "text": [
      "Для height пустых строк 330\n",
      "Для weight пустых строк 659\n",
      "Для sport пустых строк 0\n",
      "Всего строк в наборе 11538\n"
     ]
    }
   ],
   "source": [
    "print('Для height пустых строк {}'.format( len( data[ pd.isnull( data['height'] ) ] ) ))\n",
    "print('Для weight пустых строк {}'.format( len( data[ pd.isnull( data['weight'] ) ] ) ))\n",
    "print('Для sport пустых строк {}'.format( len( data[ pd.isnull( data['sport'] ) ] ) ))\n",
    "print('Всего строк в наборе {}'.format( len( data ) ))"
   ]
  },
  {
   "cell_type": "code",
   "execution_count": 590,
   "id": "dd448d48",
   "metadata": {},
   "outputs": [],
   "source": [
    "# обнуляем ячейки с отсутствием данных\n",
    "data = data[ pd.isnull( data['height'] ) == 0 ]\n",
    "data = data[ pd.isnull( data['weight'] ) == 0 ]"
   ]
  },
  {
   "cell_type": "code",
   "execution_count": 591,
   "id": "028ef6fc",
   "metadata": {},
   "outputs": [
    {
     "name": "stdout",
     "output_type": "stream",
     "text": [
      "<class 'pandas.core.frame.DataFrame'>\n",
      "Int64Index: 10858 entries, 0 to 11537\n",
      "Data columns (total 11 columns):\n",
      " #   Column       Non-Null Count  Dtype  \n",
      "---  ------       --------------  -----  \n",
      " 0   id           10858 non-null  int64  \n",
      " 1   name         10858 non-null  object \n",
      " 2   nationality  10858 non-null  object \n",
      " 3   sex          10858 non-null  object \n",
      " 4   dob          10858 non-null  object \n",
      " 5   height       10858 non-null  float64\n",
      " 6   weight       10858 non-null  float64\n",
      " 7   sport        10858 non-null  object \n",
      " 8   gold         10858 non-null  int64  \n",
      " 9   silver       10858 non-null  int64  \n",
      " 10  bronze       10858 non-null  int64  \n",
      "dtypes: float64(2), int64(4), object(5)\n",
      "memory usage: 1017.9+ KB\n"
     ]
    }
   ],
   "source": [
    "data.info()"
   ]
  },
  {
   "cell_type": "markdown",
   "id": "3271caba",
   "metadata": {},
   "source": [
    "**Создаем модель машинного обучения логической регрессии. Запускаем обучение.**"
   ]
  },
  {
   "cell_type": "code",
   "execution_count": 592,
   "id": "ddc4ff6a",
   "metadata": {},
   "outputs": [
    {
     "data": {
      "text/html": [
       "<div>\n",
       "<style scoped>\n",
       "    .dataframe tbody tr th:only-of-type {\n",
       "        vertical-align: middle;\n",
       "    }\n",
       "\n",
       "    .dataframe tbody tr th {\n",
       "        vertical-align: top;\n",
       "    }\n",
       "\n",
       "    .dataframe thead th {\n",
       "        text-align: right;\n",
       "    }\n",
       "</style>\n",
       "<table border=\"1\" class=\"dataframe\">\n",
       "  <thead>\n",
       "    <tr style=\"text-align: right;\">\n",
       "      <th></th>\n",
       "      <th>height</th>\n",
       "      <th>weight</th>\n",
       "      <th>sport_aquatics</th>\n",
       "      <th>sport_archery</th>\n",
       "      <th>sport_athletics</th>\n",
       "      <th>sport_badminton</th>\n",
       "      <th>sport_basketball</th>\n",
       "      <th>sport_canoe</th>\n",
       "      <th>sport_cycling</th>\n",
       "      <th>sport_equestrian</th>\n",
       "      <th>...</th>\n",
       "      <th>sport_rugby sevens</th>\n",
       "      <th>sport_sailing</th>\n",
       "      <th>sport_shooting</th>\n",
       "      <th>sport_table tennis</th>\n",
       "      <th>sport_taekwondo</th>\n",
       "      <th>sport_tennis</th>\n",
       "      <th>sport_triathlon</th>\n",
       "      <th>sport_volleyball</th>\n",
       "      <th>sport_weightlifting</th>\n",
       "      <th>sport_wrestling</th>\n",
       "    </tr>\n",
       "  </thead>\n",
       "  <tbody>\n",
       "    <tr>\n",
       "      <th>0</th>\n",
       "      <td>1.72</td>\n",
       "      <td>64.0</td>\n",
       "      <td>0</td>\n",
       "      <td>0</td>\n",
       "      <td>1</td>\n",
       "      <td>0</td>\n",
       "      <td>0</td>\n",
       "      <td>0</td>\n",
       "      <td>0</td>\n",
       "      <td>0</td>\n",
       "      <td>...</td>\n",
       "      <td>0</td>\n",
       "      <td>0</td>\n",
       "      <td>0</td>\n",
       "      <td>0</td>\n",
       "      <td>0</td>\n",
       "      <td>0</td>\n",
       "      <td>0</td>\n",
       "      <td>0</td>\n",
       "      <td>0</td>\n",
       "      <td>0</td>\n",
       "    </tr>\n",
       "    <tr>\n",
       "      <th>1</th>\n",
       "      <td>1.68</td>\n",
       "      <td>56.0</td>\n",
       "      <td>0</td>\n",
       "      <td>0</td>\n",
       "      <td>0</td>\n",
       "      <td>0</td>\n",
       "      <td>0</td>\n",
       "      <td>0</td>\n",
       "      <td>0</td>\n",
       "      <td>0</td>\n",
       "      <td>...</td>\n",
       "      <td>0</td>\n",
       "      <td>0</td>\n",
       "      <td>0</td>\n",
       "      <td>0</td>\n",
       "      <td>0</td>\n",
       "      <td>0</td>\n",
       "      <td>0</td>\n",
       "      <td>0</td>\n",
       "      <td>0</td>\n",
       "      <td>0</td>\n",
       "    </tr>\n",
       "    <tr>\n",
       "      <th>2</th>\n",
       "      <td>1.98</td>\n",
       "      <td>79.0</td>\n",
       "      <td>0</td>\n",
       "      <td>0</td>\n",
       "      <td>1</td>\n",
       "      <td>0</td>\n",
       "      <td>0</td>\n",
       "      <td>0</td>\n",
       "      <td>0</td>\n",
       "      <td>0</td>\n",
       "      <td>...</td>\n",
       "      <td>0</td>\n",
       "      <td>0</td>\n",
       "      <td>0</td>\n",
       "      <td>0</td>\n",
       "      <td>0</td>\n",
       "      <td>0</td>\n",
       "      <td>0</td>\n",
       "      <td>0</td>\n",
       "      <td>0</td>\n",
       "      <td>0</td>\n",
       "    </tr>\n",
       "    <tr>\n",
       "      <th>3</th>\n",
       "      <td>1.83</td>\n",
       "      <td>80.0</td>\n",
       "      <td>0</td>\n",
       "      <td>0</td>\n",
       "      <td>0</td>\n",
       "      <td>0</td>\n",
       "      <td>0</td>\n",
       "      <td>0</td>\n",
       "      <td>0</td>\n",
       "      <td>0</td>\n",
       "      <td>...</td>\n",
       "      <td>0</td>\n",
       "      <td>0</td>\n",
       "      <td>0</td>\n",
       "      <td>0</td>\n",
       "      <td>1</td>\n",
       "      <td>0</td>\n",
       "      <td>0</td>\n",
       "      <td>0</td>\n",
       "      <td>0</td>\n",
       "      <td>0</td>\n",
       "    </tr>\n",
       "    <tr>\n",
       "      <th>4</th>\n",
       "      <td>1.81</td>\n",
       "      <td>71.0</td>\n",
       "      <td>0</td>\n",
       "      <td>0</td>\n",
       "      <td>0</td>\n",
       "      <td>0</td>\n",
       "      <td>0</td>\n",
       "      <td>0</td>\n",
       "      <td>1</td>\n",
       "      <td>0</td>\n",
       "      <td>...</td>\n",
       "      <td>0</td>\n",
       "      <td>0</td>\n",
       "      <td>0</td>\n",
       "      <td>0</td>\n",
       "      <td>0</td>\n",
       "      <td>0</td>\n",
       "      <td>0</td>\n",
       "      <td>0</td>\n",
       "      <td>0</td>\n",
       "      <td>0</td>\n",
       "    </tr>\n",
       "  </tbody>\n",
       "</table>\n",
       "<p>5 rows × 29 columns</p>\n",
       "</div>"
      ],
      "text/plain": [
       "   height  weight  sport_aquatics  sport_archery  sport_athletics  \\\n",
       "0    1.72    64.0               0              0                1   \n",
       "1    1.68    56.0               0              0                0   \n",
       "2    1.98    79.0               0              0                1   \n",
       "3    1.83    80.0               0              0                0   \n",
       "4    1.81    71.0               0              0                0   \n",
       "\n",
       "   sport_badminton  sport_basketball  sport_canoe  sport_cycling  \\\n",
       "0                0                 0            0              0   \n",
       "1                0                 0            0              0   \n",
       "2                0                 0            0              0   \n",
       "3                0                 0            0              0   \n",
       "4                0                 0            0              1   \n",
       "\n",
       "   sport_equestrian  ...  sport_rugby sevens  sport_sailing  sport_shooting  \\\n",
       "0                 0  ...                   0              0               0   \n",
       "1                 0  ...                   0              0               0   \n",
       "2                 0  ...                   0              0               0   \n",
       "3                 0  ...                   0              0               0   \n",
       "4                 0  ...                   0              0               0   \n",
       "\n",
       "   sport_table tennis  sport_taekwondo  sport_tennis  sport_triathlon  \\\n",
       "0                   0                0             0                0   \n",
       "1                   0                0             0                0   \n",
       "2                   0                0             0                0   \n",
       "3                   0                1             0                0   \n",
       "4                   0                0             0                0   \n",
       "\n",
       "   sport_volleyball  sport_weightlifting  sport_wrestling  \n",
       "0                 0                    0                0  \n",
       "1                 0                    0                0  \n",
       "2                 0                    0                0  \n",
       "3                 0                    0                0  \n",
       "4                 0                    0                0  \n",
       "\n",
       "[5 rows x 29 columns]"
      ]
     },
     "execution_count": 592,
     "metadata": {},
     "output_type": "execute_result"
    }
   ],
   "source": [
    "# попробуем выбрать какие-нибудь признаки\n",
    "selectedColumns = data[ [ 'height', 'weight', 'sport', 'sex' ] ]\n",
    "\n",
    "# столбец sport является категориальной переменной\n",
    "# переведем ее в значения 0 и 1, добавив столбцы с соответствующими названиями\n",
    "X = pd.get_dummies( selectedColumns, columns = [ 'sport' ] )\n",
    "\n",
    "# столбец sex является целевой переменной, удаляем его из X\n",
    "del X['sex']\n",
    "X.head()"
   ]
  },
  {
   "cell_type": "code",
   "execution_count": 593,
   "id": "0a63b271",
   "metadata": {},
   "outputs": [],
   "source": [
    "from sklearn.preprocessing import LabelEncoder\n",
    "le = LabelEncoder()"
   ]
  },
  {
   "cell_type": "code",
   "execution_count": 594,
   "id": "e0334040",
   "metadata": {},
   "outputs": [
    {
     "data": {
      "text/plain": [
       "LabelEncoder()"
      ]
     },
     "execution_count": 594,
     "metadata": {},
     "output_type": "execute_result"
    }
   ],
   "source": [
    "le.fit( data['sex'] )"
   ]
  },
  {
   "cell_type": "code",
   "execution_count": 595,
   "id": "b19228f8",
   "metadata": {},
   "outputs": [
    {
     "data": {
      "text/plain": [
       "array(['female', 'male'], dtype=object)"
      ]
     },
     "execution_count": 595,
     "metadata": {},
     "output_type": "execute_result"
    }
   ],
   "source": [
    "le.classes_"
   ]
  },
  {
   "cell_type": "code",
   "execution_count": 596,
   "id": "647c2898",
   "metadata": {},
   "outputs": [
    {
     "data": {
      "text/plain": [
       "0    1\n",
       "1    0\n",
       "2    1\n",
       "3    1\n",
       "4    1\n",
       "dtype: int32"
      ]
     },
     "execution_count": 596,
     "metadata": {},
     "output_type": "execute_result"
    }
   ],
   "source": [
    "y = pd.Series( data = le.transform( data['sex'] ) )\n",
    "y.head()"
   ]
  },
  {
   "cell_type": "code",
   "execution_count": 597,
   "id": "751231a3",
   "metadata": {},
   "outputs": [
    {
     "data": {
      "text/plain": [
       "True"
      ]
     },
     "execution_count": 597,
     "metadata": {},
     "output_type": "execute_result"
    }
   ],
   "source": [
    "X_train, X_test, y_train, y_test = train_test_split(X, y, test_size = 0.2, random_state = 11)\n",
    "len(X_train) + len(X_test) == len(X)"
   ]
  },
  {
   "cell_type": "code",
   "execution_count": 598,
   "id": "31ddffcb",
   "metadata": {},
   "outputs": [],
   "source": [
    "model = make_pipeline(\n",
    "StandardScaler(),\n",
    "LogisticRegression(max_iter=1000))"
   ]
  },
  {
   "cell_type": "code",
   "execution_count": 599,
   "id": "d2cbfb80",
   "metadata": {},
   "outputs": [
    {
     "data": {
      "text/plain": [
       "array([[0.88795551, 0.11204449],\n",
       "       [0.87128244, 0.12871756],\n",
       "       [0.96182035, 0.03817965],\n",
       "       ...,\n",
       "       [0.00214871, 0.99785129],\n",
       "       [0.19033855, 0.80966145],\n",
       "       [0.08961287, 0.91038713]])"
      ]
     },
     "execution_count": 599,
     "metadata": {},
     "output_type": "execute_result"
    }
   ],
   "source": [
    "model.fit(X_train,y_train)\n",
    "predictions = model.predict(X_test)\n",
    "predictions[:100]\n",
    "model.predict_proba(X_test)"
   ]
  },
  {
   "cell_type": "markdown",
   "id": "3dbf212e",
   "metadata": {},
   "source": [
    "**Построим ROC-кривую (Receiver Operating Characteristic) с помощью библиотеки sklearn..**"
   ]
  },
  {
   "cell_type": "code",
   "execution_count": 600,
   "id": "2c963b7a",
   "metadata": {},
   "outputs": [
    {
     "name": "stdout",
     "output_type": "stream",
     "text": [
      "(0.0, 0.0, 2)\n",
      "(0.20710659898477157, 0.8239258635214828, 1)\n",
      "(1.0, 1.0, 0)\n"
     ]
    }
   ],
   "source": [
    "# получаем значения false и true positive rate для различных значений порога\n",
    "fpr, tpr, thres = roc_curve(y_test, predictions[:, 1])\n",
    "\n",
    "for line in zip(fpr[:10], tpr[:10], thres[:10]):\n",
    "    print(line)"
   ]
  },
  {
   "cell_type": "code",
   "execution_count": 601,
   "id": "25e059cb",
   "metadata": {},
   "outputs": [
    {
     "data": {
      "image/png": "[encoded data removed]",
      "text/plain": [
       "<Figure size 432x288 with 1 Axes>"
      ]
     },
     "metadata": {
      "needs_background": "light"
     },
     "output_type": "display_data"
    }
   ],
   "source": [
    "plt.plot(fpr, tpr, label = 'Библиотека sklearn')\n",
    "\n",
    "# Добавляем диагональ под 45 градусов\n",
    "plt.plot([0, 1], [0, 1], color='black', linestyle='dashed', label='Диагональ')\n",
    "\n",
    "plt.legend()\n",
    "plt.xlabel('FPR')\n",
    "plt.ylabel('TPR')\n",
    "plt.title('ROC Curve')\n",
    "plt.grid()"
   ]
  },
  {
   "cell_type": "markdown",
   "id": "edde2064",
   "metadata": {},
   "source": [
    "**Выяислим значение ROC-AUC метрики.**"
   ]
  },
  {
   "cell_type": "code",
   "execution_count": 602,
   "id": "1b07abab",
   "metadata": {},
   "outputs": [
    {
     "data": {
      "text/plain": [
       "0.8084096322683556"
      ]
     },
     "execution_count": 602,
     "metadata": {},
     "output_type": "execute_result"
    }
   ],
   "source": [
    "roc_auc_score(y_test, predictions)"
   ]
  },
  {
   "cell_type": "markdown",
   "id": "cb0387e6",
   "metadata": {},
   "source": [
    "**Рассчитаем метрики TPR, FPR «вручную», без использования готовых функций из библиотеки sklearn.**"
   ]
  },
  {
   "cell_type": "code",
   "execution_count": 603,
   "id": "92c8228d",
   "metadata": {},
   "outputs": [
    {
     "name": "stdout",
     "output_type": "stream",
     "text": [
      "[0.   0.01 0.02 0.03 0.04 0.05 0.06 0.07 0.08 0.09 0.1  0.11 0.12 0.13\n",
      " 0.14 0.15 0.16 0.17 0.18 0.19 0.2  0.21 0.22 0.23 0.24 0.25 0.26 0.27\n",
      " 0.28 0.29 0.3  0.31 0.32 0.33 0.34 0.35 0.36 0.37 0.38 0.39 0.4  0.41\n",
      " 0.42 0.43 0.44 0.45 0.46 0.47 0.48 0.49 0.5  0.51 0.52 0.53 0.54 0.55\n",
      " 0.56 0.57 0.58 0.59 0.6  0.61 0.62 0.63 0.64 0.65 0.66 0.67 0.68 0.69\n",
      " 0.7  0.71 0.72 0.73 0.74 0.75 0.76 0.77 0.78 0.79 0.8  0.81 0.82 0.83\n",
      " 0.84 0.85 0.86 0.87 0.88 0.89 0.9  0.91 0.92 0.93 0.94 0.95 0.96 0.97\n",
      " 0.98 0.99 1.  ]\n"
     ]
    }
   ],
   "source": [
    "# Создаем список пороговых значений от 0 до 1 с шагом 0.01\n",
    "thresholds = np.arange(0, 1.01, 0.01)\n",
    "print(thresholds)"
   ]
  },
  {
   "cell_type": "code",
   "execution_count": 604,
   "id": "2223413d",
   "metadata": {},
   "outputs": [],
   "source": [
    "predictions = predictions[:100]\n",
    "y_test = y_test[:100]\n",
    "#y_test = y_test.to_numpy()\n",
    "\n",
    "def check(X_test, y_test, treshold):\n",
    "        \n",
    "    tp1 = 0\n",
    "    fp1 = 0\n",
    "    tn1 = 0\n",
    "    fn1 = 0\n",
    "    \n",
    "    pr1 = 0\n",
    "    re1 = 0\n",
    "    fpr1 = 0\n",
    "    tpr1 = 0\n",
    "    \n",
    "    for predicted_prob, actual in zip( predictions, y_test ):\n",
    "        if predicted_prob >= treshold:\n",
    "            predicted = 1\n",
    "        else:\n",
    "            predicted = 0\n",
    "            \n",
    "        if predicted == 1:\n",
    "            if actual == 1:\n",
    "                tp1 += 1\n",
    "            else:\n",
    "                fp1 += 1\n",
    "        else:\n",
    "            if actual == 1:\n",
    "                fn1 += 1\n",
    "            else:\n",
    "                tn1 += 1\n",
    "                \n",
    "        pr1 = tp1 / (tp1 + fp1 + 1e-09)\n",
    "        re1 = tp1 / (tp1 + fn1 + 1e-09)\n",
    "        tpr1 = tp1/(tn1 + fp1)\n",
    "        fpr1 = fp1/(tn1 + fp1)\n",
    "        \n",
    "        \n",
    "    return pr1, re1, fpr1, tpr1"
   ]
  },
  {
   "cell_type": "code",
   "execution_count": 605,
   "id": "42d100aa",
   "metadata": {},
   "outputs": [],
   "source": [
    "fprs = []\n",
    "tprs = []\n",
    "prs = []\n",
    "recs = []\n",
    "\n",
    "for th in thresholds:\n",
    "    precision_, recall_, fpr_, tpr_ =  check(X_test, y_test, th)\n",
    "    fprs.append(fpr_)\n",
    "    prs.append(precision_)\n",
    "    recs.append(recall_)\n",
    "    tprs.append(tpr_)"
   ]
  },
  {
   "cell_type": "code",
   "execution_count": 606,
   "id": "26d779fa",
   "metadata": {},
   "outputs": [
    {
     "data": {
      "image/png": "[encoded data removed]",
      "text/plain": [
       "<Figure size 432x288 with 1 Axes>"
      ]
     },
     "metadata": {
      "needs_background": "light"
     },
     "output_type": "display_data"
    }
   ],
   "source": [
    "fig, ax = plt.subplots()\n",
    "\n",
    "# Строим график FPRs\n",
    "ax.plot(thresholds, fprs, label='FPR')\n",
    "\n",
    "# Строим график Recalls\n",
    "ax.plot(thresholds, recs, label='Recall')\n",
    "\n",
    "# Настраиваем легенду и заголовки\n",
    "ax.legend()\n",
    "ax.set_xlabel('Threshold')\n",
    "ax.set_ylabel('Value')\n",
    "ax.set_title('FPRS - Recalls')\n",
    "\n",
    "# Показываем график\n",
    "plt.show()\n"
   ]
  },
  {
   "cell_type": "markdown",
   "id": "8f5e2edf",
   "metadata": {},
   "source": [
    "**Построим ROC-кривую с помощью вычисленных вручную метрик FRP и TRP. Объединим графики метрик FRP и TRP рассчитанных вручную и с помощью библиотеки sklearn.**"
   ]
  },
  {
   "cell_type": "code",
   "execution_count": 607,
   "id": "6c8ab353",
   "metadata": {},
   "outputs": [
    {
     "data": {
      "image/png": "[encoded data removed]",
      "text/plain": [
       "<Figure size 432x288 with 1 Axes>"
      ]
     },
     "metadata": {
      "needs_background": "light"
     },
     "output_type": "display_data"
    }
   ],
   "source": [
    "plt.plot(fpr, tpr, label = 'Библиотека sklearn')\n",
    "plt.plot(fprs, tprs, label = 'Расчет вручную')\n",
    "\n",
    "# Добавляем диагональ под 45 градусов\n",
    "plt.plot([0, 1], [0, 1], color='black', linestyle='dashed', label='Диагональ')\n",
    "\n",
    "plt.legend()\n",
    "plt.xlabel('FPR')\n",
    "plt.ylabel('TPR')\n",
    "plt.title('ROC Curve')\n",
    "plt.grid()\n"
   ]
  },
  {
   "cell_type": "markdown",
   "id": "6afdc212",
   "metadata": {},
   "source": [
    "**Построим график Precision-Recall, используя показатели TP, FP и FN, рассчитанные вручную.**"
   ]
  },
  {
   "cell_type": "code",
   "execution_count": 608,
   "id": "f421427e",
   "metadata": {},
   "outputs": [
    {
     "data": {
      "image/png": "[encoded data removed]",
      "text/plain": [
       "<Figure size 432x288 with 1 Axes>"
      ]
     },
     "metadata": {
      "needs_background": "light"
     },
     "output_type": "display_data"
    }
   ],
   "source": [
    "plt.plot(recs, prs, label = 'Расчет вручную')\n",
    "\n",
    "# Добавляем диагональ под 45 градусов\n",
    "plt.plot([0, 1], [0, 1], color='black', linestyle='dashed', label='Диагональ')\n",
    "\n",
    "plt.legend()\n",
    "plt.xlabel('RE')\n",
    "plt.ylabel('PR')\n",
    "plt.title('Precision-Recall')\n",
    "plt.grid()\n",
    "plt.grid()"
   ]
  },
  {
   "cell_type": "markdown",
   "id": "988d0f39",
   "metadata": {},
   "source": [
    "**Вычислим значение ROC-AUC метрики, используя показатели TPR и FPR, рассчитанные вручную.**"
   ]
  },
  {
   "cell_type": "code",
   "execution_count": 609,
   "id": "0e605a78",
   "metadata": {},
   "outputs": [
    {
     "data": {
      "text/plain": [
       "1.2366863905325445"
      ]
     },
     "execution_count": 609,
     "metadata": {},
     "output_type": "execute_result"
    }
   ],
   "source": [
    "auc(fprs, tprs)"
   ]
  },
  {
   "cell_type": "markdown",
   "id": "21f51cc5",
   "metadata": {},
   "source": [
    "**Выводы.**"
   ]
  },
  {
   "cell_type": "markdown",
   "id": "d2fb859f",
   "metadata": {},
   "source": [
    "**1 - Как по полученным графикам сделать вывод о качестве модели? Как вы оцениваете обученную модель исходя из подсчитанных метрик?**\n",
    "*Если линия ROC-кривой проходит близко к диагонали, это указывает на низкую эффективность модели. При этом более быстрый подъем кривой вверх указывает на лучшую производительность модели. При переобучении модели, линия ROC-кривой может находиться ниже диагонали.*\n",
    "\n",
    "*Так как для нашей модели линия ROC-кривой находится выше диагонали и имеет большую скорость нарастания, можно сделать вывод, что она эффективна и не переобучена.*\n",
    "\n",
    "**2 - Может ли ROC-кривая проходить ниже диагонали?**\n",
    "*На основании полученных графиков, можно сделать вывод, что ROC-кривая не может проходить ниже диагонали, если она не переобучена.*"
   ]
  },
  {
   "cell_type": "code",
   "execution_count": null,
   "id": "d963df1f",
   "metadata": {},
   "outputs": [],
   "source": []
  }
 ],
 "metadata": {
  "kernelspec": {
   "display_name": "Python 3 (ipykernel)",
   "language": "python",
   "name": "python3"
  },
  "language_info": {
   "codemirror_mode": {
    "name": "ipython",
    "version": 3
   },
   "file_extension": ".py",
   "mimetype": "text/x-python",
   "name": "python",
   "nbconvert_exporter": "python",
   "pygments_lexer": "ipython3",
   "version": "3.9.12"
  }
 },
 "nbformat": 4,
 "nbformat_minor": 5
}
