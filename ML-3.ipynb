{
 "cells": [
  {
   "cell_type": "code",
   "execution_count": 1,
   "id": "57b0bfdf",
   "metadata": {},
   "outputs": [],
   "source": [
    "import numpy as np\n",
    "import pandas as pd\n",
    "import matplotlib.pyplot as plt\n",
    "#import tabulate\n",
    "\n",
    "#from sklearn import datasets\n",
    "#from sklearn.datasets import make_blobs\n",
    "from sklearn.model_selection import train_test_split\n",
    "from sklearn.preprocessing import StandardScaler\n",
    "from sklearn.linear_model import LogisticRegression\n",
    "from sklearn.model_selection import train_test_split\n",
    "from sklearn.preprocessing import LabelEncoder\n",
    "le = LabelEncoder()\n",
    "from sklearn.pipeline import make_pipeline\n",
    "\n",
    "#для расчета ROC-кривой\n",
    "from sklearn.metrics import roc_curve\n",
    "from sklearn.metrics import roc_auc_score\n",
    "from sklearn.metrics import auc\n",
    "\n",
    "#from sklearn.metrics import accuracy_score #доля правильных ответов в классификации\n",
    "#from sklearn.metrics import mean_squared_error"
   ]
  },
  {
   "cell_type": "markdown",
   "id": "c98f5ec0",
   "metadata": {},
   "source": [
    "**Загрузим датасет и проверим на наличие нулевых значений.**"
   ]
  },
  {
   "cell_type": "code",
   "execution_count": 2,
   "id": "3f84d322",
   "metadata": {},
   "outputs": [
    {
     "name": "stdout",
     "output_type": "stream",
     "text": [
      "<class 'pandas.core.frame.DataFrame'>\n",
      "RangeIndex: 11538 entries, 0 to 11537\n",
      "Data columns (total 11 columns):\n",
      " #   Column       Non-Null Count  Dtype  \n",
      "---  ------       --------------  -----  \n",
      " 0   id           11538 non-null  int64  \n",
      " 1   name         11538 non-null  object \n",
      " 2   nationality  11538 non-null  object \n",
      " 3   sex          11538 non-null  object \n",
      " 4   dob          11537 non-null  object \n",
      " 5   height       11208 non-null  float64\n",
      " 6   weight       10879 non-null  float64\n",
      " 7   sport        11538 non-null  object \n",
      " 8   gold         11538 non-null  int64  \n",
      " 9   silver       11538 non-null  int64  \n",
      " 10  bronze       11538 non-null  int64  \n",
      "dtypes: float64(2), int64(4), object(5)\n",
      "memory usage: 991.7+ KB\n"
     ]
    }
   ],
   "source": [
    "data=pd.read_csv('C:/Users/Лина/Downloads/Обучение/Машинное обучение/Оценка точности модели, переобучение, регуляризация/ДЗ/athletes.csv', delimiter=',')\n",
    "data.info()"
   ]
  },
  {
   "cell_type": "code",
   "execution_count": 3,
   "id": "29b61e5d",
   "metadata": {},
   "outputs": [
    {
     "name": "stdout",
     "output_type": "stream",
     "text": [
      "Для height пустых строк 330\n",
      "Для weight пустых строк 659\n",
      "Для sport пустых строк 0\n",
      "Всего строк в наборе 11538\n"
     ]
    }
   ],
   "source": [
    "print('Для height пустых строк {}'.format( len( data[ pd.isnull( data['height'] ) ] ) ))\n",
    "print('Для weight пустых строк {}'.format( len( data[ pd.isnull( data['weight'] ) ] ) ))\n",
    "print('Для sport пустых строк {}'.format( len( data[ pd.isnull( data['sport'] ) ] ) ))\n",
    "print('Всего строк в наборе {}'.format( len( data ) ))"
   ]
  },
  {
   "cell_type": "code",
   "execution_count": 4,
   "id": "dd448d48",
   "metadata": {},
   "outputs": [],
   "source": [
    "# обнуляем ячейки с отсутствием данных\n",
    "data = data[ pd.isnull( data['height'] ) == 0 ]\n",
    "data = data[ pd.isnull( data['weight'] ) == 0 ]"
   ]
  },
  {
   "cell_type": "code",
   "execution_count": 5,
   "id": "028ef6fc",
   "metadata": {},
   "outputs": [
    {
     "name": "stdout",
     "output_type": "stream",
     "text": [
      "<class 'pandas.core.frame.DataFrame'>\n",
      "Int64Index: 10858 entries, 0 to 11537\n",
      "Data columns (total 11 columns):\n",
      " #   Column       Non-Null Count  Dtype  \n",
      "---  ------       --------------  -----  \n",
      " 0   id           10858 non-null  int64  \n",
      " 1   name         10858 non-null  object \n",
      " 2   nationality  10858 non-null  object \n",
      " 3   sex          10858 non-null  object \n",
      " 4   dob          10858 non-null  object \n",
      " 5   height       10858 non-null  float64\n",
      " 6   weight       10858 non-null  float64\n",
      " 7   sport        10858 non-null  object \n",
      " 8   gold         10858 non-null  int64  \n",
      " 9   silver       10858 non-null  int64  \n",
      " 10  bronze       10858 non-null  int64  \n",
      "dtypes: float64(2), int64(4), object(5)\n",
      "memory usage: 1017.9+ KB\n"
     ]
    }
   ],
   "source": [
    "data.info()"
   ]
  },
  {
   "cell_type": "markdown",
   "id": "3271caba",
   "metadata": {},
   "source": [
    "**Создаем модель машинного обучения логической регрессии. Запускаем обучение.**"
   ]
  },
  {
   "cell_type": "code",
   "execution_count": 6,
   "id": "ddc4ff6a",
   "metadata": {},
   "outputs": [
    {
     "data": {
      "text/html": [
       "<div>\n",
       "<style scoped>\n",
       "    .dataframe tbody tr th:only-of-type {\n",
       "        vertical-align: middle;\n",
       "    }\n",
       "\n",
       "    .dataframe tbody tr th {\n",
       "        vertical-align: top;\n",
       "    }\n",
       "\n",
       "    .dataframe thead th {\n",
       "        text-align: right;\n",
       "    }\n",
       "</style>\n",
       "<table border=\"1\" class=\"dataframe\">\n",
       "  <thead>\n",
       "    <tr style=\"text-align: right;\">\n",
       "      <th></th>\n",
       "      <th>height</th>\n",
       "      <th>weight</th>\n",
       "      <th>sport_aquatics</th>\n",
       "      <th>sport_archery</th>\n",
       "      <th>sport_athletics</th>\n",
       "      <th>sport_badminton</th>\n",
       "      <th>sport_basketball</th>\n",
       "      <th>sport_canoe</th>\n",
       "      <th>sport_cycling</th>\n",
       "      <th>sport_equestrian</th>\n",
       "      <th>...</th>\n",
       "      <th>sport_rugby sevens</th>\n",
       "      <th>sport_sailing</th>\n",
       "      <th>sport_shooting</th>\n",
       "      <th>sport_table tennis</th>\n",
       "      <th>sport_taekwondo</th>\n",
       "      <th>sport_tennis</th>\n",
       "      <th>sport_triathlon</th>\n",
       "      <th>sport_volleyball</th>\n",
       "      <th>sport_weightlifting</th>\n",
       "      <th>sport_wrestling</th>\n",
       "    </tr>\n",
       "  </thead>\n",
       "  <tbody>\n",
       "    <tr>\n",
       "      <th>0</th>\n",
       "      <td>1.72</td>\n",
       "      <td>64.0</td>\n",
       "      <td>0</td>\n",
       "      <td>0</td>\n",
       "      <td>1</td>\n",
       "      <td>0</td>\n",
       "      <td>0</td>\n",
       "      <td>0</td>\n",
       "      <td>0</td>\n",
       "      <td>0</td>\n",
       "      <td>...</td>\n",
       "      <td>0</td>\n",
       "      <td>0</td>\n",
       "      <td>0</td>\n",
       "      <td>0</td>\n",
       "      <td>0</td>\n",
       "      <td>0</td>\n",
       "      <td>0</td>\n",
       "      <td>0</td>\n",
       "      <td>0</td>\n",
       "      <td>0</td>\n",
       "    </tr>\n",
       "    <tr>\n",
       "      <th>1</th>\n",
       "      <td>1.68</td>\n",
       "      <td>56.0</td>\n",
       "      <td>0</td>\n",
       "      <td>0</td>\n",
       "      <td>0</td>\n",
       "      <td>0</td>\n",
       "      <td>0</td>\n",
       "      <td>0</td>\n",
       "      <td>0</td>\n",
       "      <td>0</td>\n",
       "      <td>...</td>\n",
       "      <td>0</td>\n",
       "      <td>0</td>\n",
       "      <td>0</td>\n",
       "      <td>0</td>\n",
       "      <td>0</td>\n",
       "      <td>0</td>\n",
       "      <td>0</td>\n",
       "      <td>0</td>\n",
       "      <td>0</td>\n",
       "      <td>0</td>\n",
       "    </tr>\n",
       "    <tr>\n",
       "      <th>2</th>\n",
       "      <td>1.98</td>\n",
       "      <td>79.0</td>\n",
       "      <td>0</td>\n",
       "      <td>0</td>\n",
       "      <td>1</td>\n",
       "      <td>0</td>\n",
       "      <td>0</td>\n",
       "      <td>0</td>\n",
       "      <td>0</td>\n",
       "      <td>0</td>\n",
       "      <td>...</td>\n",
       "      <td>0</td>\n",
       "      <td>0</td>\n",
       "      <td>0</td>\n",
       "      <td>0</td>\n",
       "      <td>0</td>\n",
       "      <td>0</td>\n",
       "      <td>0</td>\n",
       "      <td>0</td>\n",
       "      <td>0</td>\n",
       "      <td>0</td>\n",
       "    </tr>\n",
       "    <tr>\n",
       "      <th>3</th>\n",
       "      <td>1.83</td>\n",
       "      <td>80.0</td>\n",
       "      <td>0</td>\n",
       "      <td>0</td>\n",
       "      <td>0</td>\n",
       "      <td>0</td>\n",
       "      <td>0</td>\n",
       "      <td>0</td>\n",
       "      <td>0</td>\n",
       "      <td>0</td>\n",
       "      <td>...</td>\n",
       "      <td>0</td>\n",
       "      <td>0</td>\n",
       "      <td>0</td>\n",
       "      <td>0</td>\n",
       "      <td>1</td>\n",
       "      <td>0</td>\n",
       "      <td>0</td>\n",
       "      <td>0</td>\n",
       "      <td>0</td>\n",
       "      <td>0</td>\n",
       "    </tr>\n",
       "    <tr>\n",
       "      <th>4</th>\n",
       "      <td>1.81</td>\n",
       "      <td>71.0</td>\n",
       "      <td>0</td>\n",
       "      <td>0</td>\n",
       "      <td>0</td>\n",
       "      <td>0</td>\n",
       "      <td>0</td>\n",
       "      <td>0</td>\n",
       "      <td>1</td>\n",
       "      <td>0</td>\n",
       "      <td>...</td>\n",
       "      <td>0</td>\n",
       "      <td>0</td>\n",
       "      <td>0</td>\n",
       "      <td>0</td>\n",
       "      <td>0</td>\n",
       "      <td>0</td>\n",
       "      <td>0</td>\n",
       "      <td>0</td>\n",
       "      <td>0</td>\n",
       "      <td>0</td>\n",
       "    </tr>\n",
       "  </tbody>\n",
       "</table>\n",
       "<p>5 rows × 29 columns</p>\n",
       "</div>"
      ],
      "text/plain": [
       "   height  weight  sport_aquatics  sport_archery  sport_athletics  \\\n",
       "0    1.72    64.0               0              0                1   \n",
       "1    1.68    56.0               0              0                0   \n",
       "2    1.98    79.0               0              0                1   \n",
       "3    1.83    80.0               0              0                0   \n",
       "4    1.81    71.0               0              0                0   \n",
       "\n",
       "   sport_badminton  sport_basketball  sport_canoe  sport_cycling  \\\n",
       "0                0                 0            0              0   \n",
       "1                0                 0            0              0   \n",
       "2                0                 0            0              0   \n",
       "3                0                 0            0              0   \n",
       "4                0                 0            0              1   \n",
       "\n",
       "   sport_equestrian  ...  sport_rugby sevens  sport_sailing  sport_shooting  \\\n",
       "0                 0  ...                   0              0               0   \n",
       "1                 0  ...                   0              0               0   \n",
       "2                 0  ...                   0              0               0   \n",
       "3                 0  ...                   0              0               0   \n",
       "4                 0  ...                   0              0               0   \n",
       "\n",
       "   sport_table tennis  sport_taekwondo  sport_tennis  sport_triathlon  \\\n",
       "0                   0                0             0                0   \n",
       "1                   0                0             0                0   \n",
       "2                   0                0             0                0   \n",
       "3                   0                1             0                0   \n",
       "4                   0                0             0                0   \n",
       "\n",
       "   sport_volleyball  sport_weightlifting  sport_wrestling  \n",
       "0                 0                    0                0  \n",
       "1                 0                    0                0  \n",
       "2                 0                    0                0  \n",
       "3                 0                    0                0  \n",
       "4                 0                    0                0  \n",
       "\n",
       "[5 rows x 29 columns]"
      ]
     },
     "execution_count": 6,
     "metadata": {},
     "output_type": "execute_result"
    }
   ],
   "source": [
    "# попробуем выбрать какие-нибудь признаки\n",
    "selectedColumns = data[ [ 'height', 'weight', 'sport', 'sex' ] ]\n",
    "\n",
    "# столбец sport является категориальной переменной\n",
    "# переведем ее в значения 0 и 1, добавив столбцы с соответствующими названиями\n",
    "X = pd.get_dummies( selectedColumns, columns = [ 'sport' ] )\n",
    "\n",
    "# столбец sex является целевой переменной, удаляем его из X\n",
    "del X['sex']\n",
    "X.head()"
   ]
  },
  {
   "cell_type": "code",
   "execution_count": 7,
   "id": "0a63b271",
   "metadata": {},
   "outputs": [],
   "source": [
    "from sklearn.preprocessing import LabelEncoder\n",
    "le = LabelEncoder()"
   ]
  },
  {
   "cell_type": "code",
   "execution_count": 8,
   "id": "e0334040",
   "metadata": {},
   "outputs": [
    {
     "data": {
      "text/plain": [
       "LabelEncoder()"
      ]
     },
     "execution_count": 8,
     "metadata": {},
     "output_type": "execute_result"
    }
   ],
   "source": [
    "le.fit( data['sex'] )"
   ]
  },
  {
   "cell_type": "code",
   "execution_count": 9,
   "id": "b19228f8",
   "metadata": {},
   "outputs": [
    {
     "data": {
      "text/plain": [
       "array(['female', 'male'], dtype=object)"
      ]
     },
     "execution_count": 9,
     "metadata": {},
     "output_type": "execute_result"
    }
   ],
   "source": [
    "le.classes_"
   ]
  },
  {
   "cell_type": "code",
   "execution_count": 10,
   "id": "647c2898",
   "metadata": {},
   "outputs": [
    {
     "data": {
      "text/plain": [
       "0    1\n",
       "1    0\n",
       "2    1\n",
       "3    1\n",
       "4    1\n",
       "dtype: int32"
      ]
     },
     "execution_count": 10,
     "metadata": {},
     "output_type": "execute_result"
    }
   ],
   "source": [
    "y = pd.Series( data = le.transform( data['sex'] ) )\n",
    "y.head()"
   ]
  },
  {
   "cell_type": "code",
   "execution_count": 11,
   "id": "751231a3",
   "metadata": {},
   "outputs": [
    {
     "data": {
      "text/plain": [
       "True"
      ]
     },
     "execution_count": 11,
     "metadata": {},
     "output_type": "execute_result"
    }
   ],
   "source": [
    "X_train, X_test, y_train, y_test = train_test_split(X, y, test_size = 0.2, random_state = 11)\n",
    "len(X_train) + len(X_test) == len(X)"
   ]
  },
  {
   "cell_type": "code",
   "execution_count": 12,
   "id": "31ddffcb",
   "metadata": {},
   "outputs": [],
   "source": [
    "model = make_pipeline(\n",
    "StandardScaler(),\n",
    "LogisticRegression(max_iter=1000))"
   ]
  },
  {
   "cell_type": "code",
   "execution_count": 13,
   "id": "d2cbfb80",
   "metadata": {},
   "outputs": [
    {
     "data": {
      "text/plain": [
       "array([[0.88795551, 0.11204449],\n",
       "       [0.87128244, 0.12871756],\n",
       "       [0.96182035, 0.03817965],\n",
       "       ...,\n",
       "       [0.00214871, 0.99785129],\n",
       "       [0.19033855, 0.80966145],\n",
       "       [0.08961287, 0.91038713]])"
      ]
     },
     "execution_count": 13,
     "metadata": {},
     "output_type": "execute_result"
    }
   ],
   "source": [
    "model.fit(X_train,y_train)\n",
    "predictions = model.predict(X_test)\n",
    "predictions[:100]\n",
    "model.predict_proba(X_test)"
   ]
  },
  {
   "cell_type": "markdown",
   "id": "3dbf212e",
   "metadata": {},
   "source": [
    "**Построим ROC-кривую (Receiver Operating Characteristic) с помощью библиотеки sklearn..**"
   ]
  },
  {
   "cell_type": "code",
   "execution_count": 14,
   "id": "2c963b7a",
   "metadata": {},
   "outputs": [
    {
     "name": "stdout",
     "output_type": "stream",
     "text": [
      "(0.0, 0.0, 2)\n",
      "(0.20710659898477157, 0.8239258635214828, 1)\n",
      "(1.0, 1.0, 0)\n"
     ]
    }
   ],
   "source": [
    "# получаем значения false и true positive rate для различных значений порога\n",
    "fpr, tpr, thres = roc_curve(y_test, predictions)\n",
    "\n",
    "for line in zip(fpr[:10], tpr[:10], thres[:10]):\n",
    "    print(line)"
   ]
  },
  {
   "cell_type": "code",
   "execution_count": 15,
   "id": "25e059cb",
   "metadata": {},
   "outputs": [
    {
     "data": {
      "image/png": "[encoded data removed]",
      "text/plain": [
       "<Figure size 432x288 with 1 Axes>"
      ]
     },
     "metadata": {
      "needs_background": "light"
     },
     "output_type": "display_data"
    }
   ],
   "source": [
    "plt.plot(fpr, tpr, label = 'Библиотека sklearn')\n",
    "\n",
    "# Добавляем диагональ под 45 градусов\n",
    "plt.plot([0, 1], [0, 1], color='black', linestyle='dashed', label='Диагональ')\n",
    "\n",
    "plt.legend()\n",
    "plt.xlabel('FPR')\n",
    "plt.ylabel('TPR')\n",
    "plt.title('ROC Curve')\n",
    "plt.grid()"
   ]
  },
  {
   "cell_type": "markdown",
   "id": "edde2064",
   "metadata": {},
   "source": [
    "**Выяислим значение ROC-AUC метрики.**"
   ]
  },
  {
   "cell_type": "code",
   "execution_count": 16,
   "id": "1b07abab",
   "metadata": {},
   "outputs": [
    {
     "data": {
      "text/plain": [
       "0.8084096322683556"
      ]
     },
     "execution_count": 16,
     "metadata": {},
     "output_type": "execute_result"
    }
   ],
   "source": [
    "roc_auc_score(y_test, predictions)"
   ]
  },
  {
   "cell_type": "markdown",
   "id": "cb0387e6",
   "metadata": {},
   "source": [
    "**Рассчитаем метрики TPR, FPR «вручную», без использования готовых функций из библиотеки sklearn.**"
   ]
  },
  {
   "cell_type": "code",
   "execution_count": 17,
   "id": "2223413d",
   "metadata": {},
   "outputs": [],
   "source": [
    "predictions = predictions[:100]\n",
    "y_test = y_test[:100]\n",
    "#y_test = y_test.to_numpy()\n",
    "\n",
    "def check(X_test, y_test, treshold):\n",
    "        \n",
    "    tp1 = 0\n",
    "    fp1 = 0\n",
    "    tn1 = 0\n",
    "    fn1 = 0\n",
    "    \n",
    "    pr1 = []\n",
    "    re1 = []\n",
    "    fpr1 = []\n",
    "    tpr1 = []\n",
    "    \n",
    "    for predicted_prob, actual in zip( predictions, y_test ):\n",
    "        if predicted_prob >= treshold:\n",
    "            predicted = 1\n",
    "        else:\n",
    "            predicted = 0\n",
    "            \n",
    "        if predicted == 1:\n",
    "            if actual == 1:\n",
    "                tp1 += 1\n",
    "            else:\n",
    "                fp1 += 1\n",
    "        else:\n",
    "            if actual == 1:\n",
    "                fn1 += 1\n",
    "            else:\n",
    "                tn1 += 1\n",
    "                \n",
    "        pr1.append(tp1 / (tp1 + fp1 + 1e-09))\n",
    "        re1.append(tp1 / (tp1 + fn1 + 1e-09))\n",
    "        tpr1.append(tp1/(tn1 + fp1))\n",
    "        fpr1.append(fp1/(tn1 + fp1))\n",
    "        \n",
    "        \n",
    "    return pr1, re1, fpr1, tpr1"
   ]
  },
  {
   "cell_type": "code",
   "execution_count": 18,
   "id": "7f79eb35",
   "metadata": {},
   "outputs": [
    {
     "name": "stdout",
     "output_type": "stream",
     "text": [
      "[0.0, 0.0, 0.0, 0.0, 0.9999999989999999, 0.9999999989999999, 0.9999999995, 0.9999999996666666, 0.7499999998125, 0.79999999984, 0.79999999984, 0.8333333331944445, 0.8571428570204082, 0.8571428570204082, 0.874999999890625, 0.8888888887901234, 0.79999999992, 0.79999999992, 0.79999999992, 0.79999999992, 0.79999999992, 0.8181818181074381, 0.8333333332638889, 0.8461538460887574, 0.8571428570816326, 0.8571428570816326, 0.8571428570816326, 0.8571428570816326, 0.8666666666088889, 0.8666666666088889, 0.8749999999453125, 0.8749999999453125, 0.8823529411245675, 0.8823529411245675, 0.8888888888395061, 0.8947368420581717, 0.8947368420581717, 0.899999999955, 0.9047619047188209, 0.9090909090495868, 0.913043478221172, 0.9166666666284722, 0.9199999999632, 0.9199999999632, 0.8846153845813609, 0.8846153845813609, 0.8888888888559671, 0.8928571428252551, 0.8965517241070154, 0.89999999997, 0.89999999997, 0.9032258064224766, 0.9032258064224766, 0.9062499999716798, 0.9062499999716798, 0.909090909063361, 0.9117647058555364, 0.9142857142595919, 0.9142857142595919, 0.9142857142595919, 0.9142857142595919, 0.9166666666412038, 0.9166666666412038, 0.9166666666412038, 0.9189189188940834, 0.9210526315547092, 0.9230769230532545, 0.9230769230532545, 0.9230769230532545, 0.9230769230532545, 0.8999999999775001, 0.9024390243682333, 0.9024390243682333, 0.9024390243682333, 0.9047619047403629, 0.9047619047403629, 0.9069767441649541, 0.9069767441649541, 0.8863636363434918, 0.8888888888691359, 0.8888888888691359, 0.8913043478067109, 0.8936170212575827, 0.8936170212575827, 0.8958333333146702, 0.8958333333146702, 0.8979591836551437, 0.8999999999820001, 0.9019607842960401, 0.9038461538287722, 0.9038461538287722, 0.9056603773414027, 0.9074074073906037, 0.9090909090743802, 0.9090909090743802, 0.910714285698023, 0.912280701738381, 0.8965517241224733, 0.8965517241224733, 0.8983050847305373] [0.0, 0.0, 0.0, 0.0, 0.9999999989999999, 0.9999999989999999, 0.9999999995, 0.9999999996666666, 0.9999999996666666, 0.99999999975, 0.99999999975, 0.9999999998, 0.9999999998333333, 0.8571428570204082, 0.874999999890625, 0.8888888887901234, 0.8888888887901234, 0.8888888887901234, 0.8888888887901234, 0.8888888887901234, 0.79999999992, 0.8181818181074381, 0.8333333332638889, 0.8461538460887574, 0.8571428570816326, 0.8571428570816326, 0.7999999999466667, 0.7999999999466667, 0.8124999999492187, 0.8124999999492187, 0.8235294117162629, 0.8235294117162629, 0.8333333332870371, 0.8333333332870371, 0.8421052631135734, 0.8499999999575, 0.8499999999575, 0.8571428571020409, 0.8636363635971074, 0.8695652173534971, 0.8749999999635417, 0.8799999999648, 0.8846153845813609, 0.8518518518203018, 0.8518518518203018, 0.8518518518203018, 0.8571428571122449, 0.8620689654875149, 0.8666666666377778, 0.8709677419073881, 0.8709677419073881, 0.8749999999726563, 0.8749999999726563, 0.878787878761249, 0.878787878761249, 0.8823529411505191, 0.8857142856889797, 0.8888888888641976, 0.8888888888641976, 0.8888888888641976, 0.8888888888641976, 0.8918918918677868, 0.8918918918677868, 0.8918918918677868, 0.8947368420817176, 0.8974358974128863, 0.8999999999775001, 0.8999999999775001, 0.8999999999775001, 0.8999999999775001, 0.8999999999775001, 0.9024390243682333, 0.8809523809314059, 0.8809523809314059, 0.8837209302120066, 0.8837209302120066, 0.8863636363434918, 0.8666666666474074, 0.8666666666474074, 0.8695652173724008, 0.8510638297691263, 0.8541666666488716, 0.8571428571253645, 0.8399999999832001, 0.8431372548854288, 0.8431372548854288, 0.846153846137574, 0.849056603757565, 0.8518518518360769, 0.8545454545299174, 0.8545454545299174, 0.8571428571275511, 0.8596491227919361, 0.8620689655023782, 0.8620689655023782, 0.864406779646366, 0.8666666666522223, 0.8666666666522223, 0.8666666666522223, 0.86885245900215] [0.0, 0.0, 0.0, 0.0, 0.0, 0.0, 0.0, 0.0, 0.16666666666666666, 0.16666666666666666, 0.14285714285714285, 0.14285714285714285, 0.14285714285714285, 0.14285714285714285, 0.14285714285714285, 0.14285714285714285, 0.25, 0.2222222222222222, 0.2, 0.18181818181818182, 0.18181818181818182, 0.18181818181818182, 0.18181818181818182, 0.18181818181818182, 0.18181818181818182, 0.16666666666666666, 0.16666666666666666, 0.15384615384615385, 0.15384615384615385, 0.14285714285714285, 0.14285714285714285, 0.13333333333333333, 0.13333333333333333, 0.125, 0.125, 0.125, 0.11764705882352941, 0.11764705882352941, 0.11764705882352941, 0.11764705882352941, 0.11764705882352941, 0.11764705882352941, 0.11764705882352941, 0.11764705882352941, 0.16666666666666666, 0.15789473684210525, 0.15789473684210525, 0.15789473684210525, 0.15789473684210525, 0.15789473684210525, 0.15, 0.15, 0.14285714285714285, 0.14285714285714285, 0.13636363636363635, 0.13636363636363635, 0.13636363636363635, 0.13636363636363635, 0.13043478260869565, 0.125, 0.12, 0.12, 0.11538461538461539, 0.1111111111111111, 0.1111111111111111, 0.1111111111111111, 0.1111111111111111, 0.10714285714285714, 0.10344827586206896, 0.1, 0.12903225806451613, 0.12903225806451613, 0.12903225806451613, 0.125, 0.125, 0.12121212121212122, 0.12121212121212122, 0.12121212121212122, 0.14705882352941177, 0.14705882352941177, 0.14705882352941177, 0.14705882352941177, 0.14705882352941177, 0.14705882352941177, 0.14705882352941177, 0.14285714285714285, 0.14285714285714285, 0.14285714285714285, 0.14285714285714285, 0.14285714285714285, 0.1388888888888889, 0.1388888888888889, 0.1388888888888889, 0.1388888888888889, 0.13513513513513514, 0.13513513513513514, 0.13513513513513514, 0.15789473684210525, 0.15384615384615385, 0.15384615384615385] [0.0, 0.0, 0.0, 0.0, 0.25, 0.2, 0.4, 0.6, 0.5, 0.6666666666666666, 0.5714285714285714, 0.7142857142857143, 0.8571428571428571, 0.8571428571428571, 1.0, 1.1428571428571428, 1.0, 0.8888888888888888, 0.8, 0.7272727272727273, 0.7272727272727273, 0.8181818181818182, 0.9090909090909091, 1.0, 1.0909090909090908, 1.0, 1.0, 0.9230769230769231, 1.0, 0.9285714285714286, 1.0, 0.9333333333333333, 1.0, 0.9375, 1.0, 1.0625, 1.0, 1.0588235294117647, 1.1176470588235294, 1.1764705882352942, 1.2352941176470589, 1.2941176470588236, 1.3529411764705883, 1.3529411764705883, 1.2777777777777777, 1.2105263157894737, 1.263157894736842, 1.3157894736842106, 1.368421052631579, 1.4210526315789473, 1.35, 1.4, 1.3333333333333333, 1.380952380952381, 1.3181818181818181, 1.3636363636363635, 1.4090909090909092, 1.4545454545454546, 1.391304347826087, 1.3333333333333333, 1.28, 1.32, 1.2692307692307692, 1.2222222222222223, 1.2592592592592593, 1.2962962962962963, 1.3333333333333333, 1.2857142857142858, 1.2413793103448276, 1.2, 1.1612903225806452, 1.1935483870967742, 1.1935483870967742, 1.15625, 1.1875, 1.1515151515151516, 1.1818181818181819, 1.1818181818181819, 1.1470588235294117, 1.1764705882352942, 1.1764705882352942, 1.2058823529411764, 1.2352941176470589, 1.2352941176470589, 1.2647058823529411, 1.2285714285714286, 1.2571428571428571, 1.2857142857142858, 1.3142857142857143, 1.3428571428571427, 1.3055555555555556, 1.3333333333333333, 1.3611111111111112, 1.3888888888888888, 1.3513513513513513, 1.3783783783783783, 1.4054054054054055, 1.368421052631579, 1.3333333333333333, 1.358974358974359]\n"
     ]
    }
   ],
   "source": [
    "pr1, re1, fpr1, tpr1 = check(predictions, y_test, 1)\n",
    "print(pr1, re1, fpr1, tpr1)"
   ]
  },
  {
   "cell_type": "markdown",
   "id": "8f5e2edf",
   "metadata": {},
   "source": [
    "**Построим ROC-кривую с помощью вычисленных вручную метрик FRP и TRP. Объединим графики метрик FRP и TRP рассчитанных вручную и с помощью библиотеки sklearn.**"
   ]
  },
  {
   "cell_type": "code",
   "execution_count": 19,
   "id": "6c8ab353",
   "metadata": {},
   "outputs": [
    {
     "data": {
      "image/png": "[encoded data removed]",
      "text/plain": [
       "<Figure size 432x288 with 1 Axes>"
      ]
     },
     "metadata": {
      "needs_background": "light"
     },
     "output_type": "display_data"
    }
   ],
   "source": [
    "plt.plot(fpr, tpr, label = 'Библиотека sklearn')\n",
    "plt.plot(fpr1, tpr1, label = 'Расчет вручную')\n",
    "\n",
    "# Добавляем диагональ под 45 градусов\n",
    "plt.plot([0, 1], [0, 1], color='black', linestyle='dashed', label='Диагональ')\n",
    "\n",
    "plt.legend()\n",
    "plt.xlabel('FPR')\n",
    "plt.ylabel('TPR')\n",
    "plt.title('ROC Curve')\n",
    "plt.grid()\n"
   ]
  },
  {
   "cell_type": "markdown",
   "id": "6afdc212",
   "metadata": {},
   "source": [
    "**Построим график Precision-Recall, используя показатели TP, FP и FN, рассчитанные вручную.**"
   ]
  },
  {
   "cell_type": "code",
   "execution_count": 22,
   "id": "f421427e",
   "metadata": {},
   "outputs": [
    {
     "data": {
      "image/png": "[encoded data removed]",
      "text/plain": [
       "<Figure size 432x288 with 1 Axes>"
      ]
     },
     "metadata": {
      "needs_background": "light"
     },
     "output_type": "display_data"
    }
   ],
   "source": [
    "plt.plot(re1, pr1, label = 'Расчет вручную')\n",
    "\n",
    "# Добавляем диагональ под 45 градусов\n",
    "plt.plot([0, 1], [0, 1], color='black', linestyle='dashed', label='Диагональ')\n",
    "\n",
    "plt.legend()\n",
    "plt.xlabel('RE')\n",
    "plt.ylabel('PR')\n",
    "plt.title('Precision-Recall')\n",
    "plt.grid()\n",
    "plt.grid()"
   ]
  },
  {
   "cell_type": "markdown",
   "id": "988d0f39",
   "metadata": {},
   "source": [
    "**Вычислим значение ROC-AUC метрики, используя показатели TPR и FPR, рассчитанные вручную.**"
   ]
  },
  {
   "cell_type": "code",
   "execution_count": 23,
   "id": "08a3b6c2",
   "metadata": {},
   "outputs": [
    {
     "ename": "ValueError",
     "evalue": "x is neither increasing nor decreasing : [0.         0.         0.         0.         0.         0.\n 0.         0.         0.16666667 0.16666667 0.14285714 0.14285714\n 0.14285714 0.14285714 0.14285714 0.14285714 0.25       0.22222222\n 0.2        0.18181818 0.18181818 0.18181818 0.18181818 0.18181818\n 0.18181818 0.16666667 0.16666667 0.15384615 0.15384615 0.14285714\n 0.14285714 0.13333333 0.13333333 0.125      0.125      0.125\n 0.11764706 0.11764706 0.11764706 0.11764706 0.11764706 0.11764706\n 0.11764706 0.11764706 0.16666667 0.15789474 0.15789474 0.15789474\n 0.15789474 0.15789474 0.15       0.15       0.14285714 0.14285714\n 0.13636364 0.13636364 0.13636364 0.13636364 0.13043478 0.125\n 0.12       0.12       0.11538462 0.11111111 0.11111111 0.11111111\n 0.11111111 0.10714286 0.10344828 0.1        0.12903226 0.12903226\n 0.12903226 0.125      0.125      0.12121212 0.12121212 0.12121212\n 0.14705882 0.14705882 0.14705882 0.14705882 0.14705882 0.14705882\n 0.14705882 0.14285714 0.14285714 0.14285714 0.14285714 0.14285714\n 0.13888889 0.13888889 0.13888889 0.13888889 0.13513514 0.13513514\n 0.13513514 0.15789474 0.15384615 0.15384615].",
     "output_type": "error",
     "traceback": [
      "\u001b[1;31m---------------------------------------------------------------------------\u001b[0m",
      "\u001b[1;31mValueError\u001b[0m                                Traceback (most recent call last)",
      "Input \u001b[1;32mIn [23]\u001b[0m, in \u001b[0;36m<cell line: 1>\u001b[1;34m()\u001b[0m\n\u001b[1;32m----> 1\u001b[0m \u001b[43mauc\u001b[49m\u001b[43m(\u001b[49m\u001b[43mfpr1\u001b[49m\u001b[43m,\u001b[49m\u001b[43m \u001b[49m\u001b[43mtpr1\u001b[49m\u001b[43m)\u001b[49m\n",
      "File \u001b[1;32mC:\\ProgramData\\Anaconda3\\lib\\site-packages\\sklearn\\metrics\\_ranking.py:100\u001b[0m, in \u001b[0;36mauc\u001b[1;34m(x, y)\u001b[0m\n\u001b[0;32m     98\u001b[0m         direction \u001b[38;5;241m=\u001b[39m \u001b[38;5;241m-\u001b[39m\u001b[38;5;241m1\u001b[39m\n\u001b[0;32m     99\u001b[0m     \u001b[38;5;28;01melse\u001b[39;00m:\n\u001b[1;32m--> 100\u001b[0m         \u001b[38;5;28;01mraise\u001b[39;00m \u001b[38;5;167;01mValueError\u001b[39;00m(\u001b[38;5;124m\"\u001b[39m\u001b[38;5;124mx is neither increasing nor decreasing : \u001b[39m\u001b[38;5;132;01m{}\u001b[39;00m\u001b[38;5;124m.\u001b[39m\u001b[38;5;124m\"\u001b[39m\u001b[38;5;241m.\u001b[39mformat(x))\n\u001b[0;32m    102\u001b[0m area \u001b[38;5;241m=\u001b[39m direction \u001b[38;5;241m*\u001b[39m np\u001b[38;5;241m.\u001b[39mtrapz(y, x)\n\u001b[0;32m    103\u001b[0m \u001b[38;5;28;01mif\u001b[39;00m \u001b[38;5;28misinstance\u001b[39m(area, np\u001b[38;5;241m.\u001b[39mmemmap):\n\u001b[0;32m    104\u001b[0m     \u001b[38;5;66;03m# Reductions such as .sum used internally in np.trapz do not return a\u001b[39;00m\n\u001b[0;32m    105\u001b[0m     \u001b[38;5;66;03m# scalar by default for numpy.memmap instances contrary to\u001b[39;00m\n\u001b[0;32m    106\u001b[0m     \u001b[38;5;66;03m# regular numpy.ndarray instances.\u001b[39;00m\n",
      "\u001b[1;31mValueError\u001b[0m: x is neither increasing nor decreasing : [0.         0.         0.         0.         0.         0.\n 0.         0.         0.16666667 0.16666667 0.14285714 0.14285714\n 0.14285714 0.14285714 0.14285714 0.14285714 0.25       0.22222222\n 0.2        0.18181818 0.18181818 0.18181818 0.18181818 0.18181818\n 0.18181818 0.16666667 0.16666667 0.15384615 0.15384615 0.14285714\n 0.14285714 0.13333333 0.13333333 0.125      0.125      0.125\n 0.11764706 0.11764706 0.11764706 0.11764706 0.11764706 0.11764706\n 0.11764706 0.11764706 0.16666667 0.15789474 0.15789474 0.15789474\n 0.15789474 0.15789474 0.15       0.15       0.14285714 0.14285714\n 0.13636364 0.13636364 0.13636364 0.13636364 0.13043478 0.125\n 0.12       0.12       0.11538462 0.11111111 0.11111111 0.11111111\n 0.11111111 0.10714286 0.10344828 0.1        0.12903226 0.12903226\n 0.12903226 0.125      0.125      0.12121212 0.12121212 0.12121212\n 0.14705882 0.14705882 0.14705882 0.14705882 0.14705882 0.14705882\n 0.14705882 0.14285714 0.14285714 0.14285714 0.14285714 0.14285714\n 0.13888889 0.13888889 0.13888889 0.13888889 0.13513514 0.13513514\n 0.13513514 0.15789474 0.15384615 0.15384615]."
     ]
    }
   ],
   "source": [
    "auc(fpr1, tpr1)"
   ]
  },
  {
   "cell_type": "markdown",
   "id": "21f51cc5",
   "metadata": {},
   "source": [
    "**Выводы.**"
   ]
  },
  {
   "cell_type": "markdown",
   "id": "d2fb859f",
   "metadata": {},
   "source": [
    "**1 - Как по полученным графикам сделать вывод о качестве модели? Как вы оцениваете обученную модель исходя из подсчитанных метрик?**\n",
    "*Если линия ROC-кривой проходит близко к диагонали, это указывает на низкую эффективность модели. При этом более быстрый подъем кривой вверх указывает на лучшую производительность модели. При переобучении модели, линия ROC-кривой может находиться ниже диагонали.*\n",
    "\n",
    "*Так как для нашей модели линия ROC-кривой находится выше диагонали и имеет большую скорость нарастания, можно сделать вывод, что она эффективна и не переобучена.*\n",
    "\n",
    "*Площадь под ROC-кривой, рассчитанной \"вручную\" рассчитать не удается, так как она пересекает сама себя.*\n",
    "\n",
    "**2 - Может ли ROC-кривая проходить ниже диагонали?**\n",
    "*На основании полученных графиков, можно сделать вывод, что ROC-кривая не может проходить ниже диагонали, если она не переобучена.*"
   ]
  },
  {
   "cell_type": "code",
   "execution_count": null,
   "id": "d963df1f",
   "metadata": {},
   "outputs": [],
   "source": []
  }
 ],
 "metadata": {
  "kernelspec": {
   "display_name": "Python 3 (ipykernel)",
   "language": "python",
   "name": "python3"
  },
  "language_info": {
   "codemirror_mode": {
    "name": "ipython",
    "version": 3
   },
   "file_extension": ".py",
   "mimetype": "text/x-python",
   "name": "python",
   "nbconvert_exporter": "python",
   "pygments_lexer": "ipython3",
   "version": "3.9.12"
  }
 },
 "nbformat": 4,
 "nbformat_minor": 5
}
