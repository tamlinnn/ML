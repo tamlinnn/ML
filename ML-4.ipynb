{
 "cells": [
  {
   "cell_type": "code",
   "execution_count": 272,
   "id": "57b0bfdf",
   "metadata": {},
   "outputs": [],
   "source": [
    "import numpy as np\n",
    "import pandas as pd\n",
    "import matplotlib.pyplot as plt\n",
    "#import tabulate\n",
    "\n",
    "#from sklearn import datasets\n",
    "#from sklearn.datasets import make_blobs\n",
    "from sklearn.model_selection import train_test_split\n",
    "from sklearn.preprocessing import StandardScaler\n",
    "from sklearn.linear_model import LogisticRegression\n",
    "from sklearn.model_selection import train_test_split\n",
    "from sklearn.preprocessing import LabelEncoder\n",
    "le = LabelEncoder()\n",
    "from sklearn.pipeline import make_pipeline\n",
    "\n",
    "#для расчета ROC-кривой\n",
    "from sklearn.metrics import roc_curve\n",
    "from sklearn.metrics import roc_auc_score\n",
    "from sklearn.metrics import auc\n",
    "\n",
    "from sklearn.metrics import accuracy_score #доля правильных ответов в классификации\n",
    "from sklearn.metrics import mean_squared_error"
   ]
  },
  {
   "cell_type": "markdown",
   "id": "c98f5ec0",
   "metadata": {},
   "source": [
    "**Загрузим датасет и проверим на наличие нулевых значений.**"
   ]
  },
  {
   "cell_type": "code",
   "execution_count": 462,
   "id": "3f84d322",
   "metadata": {},
   "outputs": [
    {
     "data": {
      "text/html": [
       "<div>\n",
       "<style scoped>\n",
       "    .dataframe tbody tr th:only-of-type {\n",
       "        vertical-align: middle;\n",
       "    }\n",
       "\n",
       "    .dataframe tbody tr th {\n",
       "        vertical-align: top;\n",
       "    }\n",
       "\n",
       "    .dataframe thead th {\n",
       "        text-align: right;\n",
       "    }\n",
       "</style>\n",
       "<table border=\"1\" class=\"dataframe\">\n",
       "  <thead>\n",
       "    <tr style=\"text-align: right;\">\n",
       "      <th></th>\n",
       "      <th>PassengerId</th>\n",
       "      <th>Survived</th>\n",
       "      <th>Pclass</th>\n",
       "      <th>Name</th>\n",
       "      <th>Sex</th>\n",
       "      <th>Age</th>\n",
       "      <th>SibSp</th>\n",
       "      <th>Parch</th>\n",
       "      <th>Ticket</th>\n",
       "      <th>Fare</th>\n",
       "      <th>Cabin</th>\n",
       "      <th>Embarked</th>\n",
       "    </tr>\n",
       "  </thead>\n",
       "  <tbody>\n",
       "    <tr>\n",
       "      <th>0</th>\n",
       "      <td>1</td>\n",
       "      <td>0</td>\n",
       "      <td>3</td>\n",
       "      <td>Braund, Mr. Owen Harris</td>\n",
       "      <td>male</td>\n",
       "      <td>22.0</td>\n",
       "      <td>1</td>\n",
       "      <td>0</td>\n",
       "      <td>A/5 21171</td>\n",
       "      <td>7.2500</td>\n",
       "      <td>NaN</td>\n",
       "      <td>S</td>\n",
       "    </tr>\n",
       "    <tr>\n",
       "      <th>1</th>\n",
       "      <td>2</td>\n",
       "      <td>1</td>\n",
       "      <td>1</td>\n",
       "      <td>Cumings, Mrs. John Bradley (Florence Briggs Th...</td>\n",
       "      <td>female</td>\n",
       "      <td>38.0</td>\n",
       "      <td>1</td>\n",
       "      <td>0</td>\n",
       "      <td>PC 17599</td>\n",
       "      <td>71.2833</td>\n",
       "      <td>C85</td>\n",
       "      <td>C</td>\n",
       "    </tr>\n",
       "    <tr>\n",
       "      <th>2</th>\n",
       "      <td>3</td>\n",
       "      <td>1</td>\n",
       "      <td>3</td>\n",
       "      <td>Heikkinen, Miss. Laina</td>\n",
       "      <td>female</td>\n",
       "      <td>26.0</td>\n",
       "      <td>0</td>\n",
       "      <td>0</td>\n",
       "      <td>STON/O2. 3101282</td>\n",
       "      <td>7.9250</td>\n",
       "      <td>NaN</td>\n",
       "      <td>S</td>\n",
       "    </tr>\n",
       "    <tr>\n",
       "      <th>3</th>\n",
       "      <td>4</td>\n",
       "      <td>1</td>\n",
       "      <td>1</td>\n",
       "      <td>Futrelle, Mrs. Jacques Heath (Lily May Peel)</td>\n",
       "      <td>female</td>\n",
       "      <td>35.0</td>\n",
       "      <td>1</td>\n",
       "      <td>0</td>\n",
       "      <td>113803</td>\n",
       "      <td>53.1000</td>\n",
       "      <td>C123</td>\n",
       "      <td>S</td>\n",
       "    </tr>\n",
       "    <tr>\n",
       "      <th>4</th>\n",
       "      <td>5</td>\n",
       "      <td>0</td>\n",
       "      <td>3</td>\n",
       "      <td>Allen, Mr. William Henry</td>\n",
       "      <td>male</td>\n",
       "      <td>35.0</td>\n",
       "      <td>0</td>\n",
       "      <td>0</td>\n",
       "      <td>373450</td>\n",
       "      <td>8.0500</td>\n",
       "      <td>NaN</td>\n",
       "      <td>S</td>\n",
       "    </tr>\n",
       "  </tbody>\n",
       "</table>\n",
       "</div>"
      ],
      "text/plain": [
       "   PassengerId  Survived  Pclass  \\\n",
       "0            1         0       3   \n",
       "1            2         1       1   \n",
       "2            3         1       3   \n",
       "3            4         1       1   \n",
       "4            5         0       3   \n",
       "\n",
       "                                                Name     Sex   Age  SibSp  \\\n",
       "0                            Braund, Mr. Owen Harris    male  22.0      1   \n",
       "1  Cumings, Mrs. John Bradley (Florence Briggs Th...  female  38.0      1   \n",
       "2                             Heikkinen, Miss. Laina  female  26.0      0   \n",
       "3       Futrelle, Mrs. Jacques Heath (Lily May Peel)  female  35.0      1   \n",
       "4                           Allen, Mr. William Henry    male  35.0      0   \n",
       "\n",
       "   Parch            Ticket     Fare Cabin Embarked  \n",
       "0      0         A/5 21171   7.2500   NaN        S  \n",
       "1      0          PC 17599  71.2833   C85        C  \n",
       "2      0  STON/O2. 3101282   7.9250   NaN        S  \n",
       "3      0            113803  53.1000  C123        S  \n",
       "4      0            373450   8.0500   NaN        S  "
      ]
     },
     "execution_count": 462,
     "metadata": {},
     "output_type": "execute_result"
    }
   ],
   "source": [
    "data=pd.read_csv('C:/Users/Лина/Downloads/Обучение/Машинное обучение/Проблема качества данных/ДЗ/train.csv', delimiter=',')\n",
    "data.head()\n"
   ]
  },
  {
   "cell_type": "code",
   "execution_count": 463,
   "id": "2cf9eecf",
   "metadata": {},
   "outputs": [
    {
     "name": "stdout",
     "output_type": "stream",
     "text": [
      "<class 'pandas.core.frame.DataFrame'>\n",
      "RangeIndex: 891 entries, 0 to 890\n",
      "Data columns (total 12 columns):\n",
      " #   Column       Non-Null Count  Dtype  \n",
      "---  ------       --------------  -----  \n",
      " 0   PassengerId  891 non-null    int64  \n",
      " 1   Survived     891 non-null    int64  \n",
      " 2   Pclass       891 non-null    int64  \n",
      " 3   Name         891 non-null    object \n",
      " 4   Sex          891 non-null    object \n",
      " 5   Age          714 non-null    float64\n",
      " 6   SibSp        891 non-null    int64  \n",
      " 7   Parch        891 non-null    int64  \n",
      " 8   Ticket       891 non-null    object \n",
      " 9   Fare         891 non-null    float64\n",
      " 10  Cabin        204 non-null    object \n",
      " 11  Embarked     889 non-null    object \n",
      "dtypes: float64(2), int64(5), object(5)\n",
      "memory usage: 83.7+ KB\n"
     ]
    }
   ],
   "source": [
    "data.info()"
   ]
  },
  {
   "cell_type": "markdown",
   "id": "aefa0c11",
   "metadata": {},
   "source": [
    "**Удалим все пропущенные значения и категориальные переменные.**"
   ]
  },
  {
   "cell_type": "code",
   "execution_count": 464,
   "id": "89757fa6",
   "metadata": {},
   "outputs": [
    {
     "name": "stdout",
     "output_type": "stream",
     "text": [
      "<class 'pandas.core.frame.DataFrame'>\n",
      "Int64Index: 183 entries, 1 to 889\n",
      "Data columns (total 12 columns):\n",
      " #   Column       Non-Null Count  Dtype  \n",
      "---  ------       --------------  -----  \n",
      " 0   PassengerId  183 non-null    int64  \n",
      " 1   Survived     183 non-null    int64  \n",
      " 2   Pclass       183 non-null    int64  \n",
      " 3   Name         183 non-null    object \n",
      " 4   Sex          183 non-null    object \n",
      " 5   Age          183 non-null    float64\n",
      " 6   SibSp        183 non-null    int64  \n",
      " 7   Parch        183 non-null    int64  \n",
      " 8   Ticket       183 non-null    object \n",
      " 9   Fare         183 non-null    float64\n",
      " 10  Cabin        183 non-null    object \n",
      " 11  Embarked     183 non-null    object \n",
      "dtypes: float64(2), int64(5), object(5)\n",
      "memory usage: 18.6+ KB\n"
     ]
    }
   ],
   "source": [
    "data = data[ pd.isnull( data['Age'] ) == 0 ]\n",
    "data = data[ pd.isnull( data['Cabin'] ) == 0 ]\n",
    "data = data[ pd.isnull( data['Embarked'] ) == 0 ]\n",
    "\n",
    "data.info()"
   ]
  },
  {
   "cell_type": "markdown",
   "id": "ee469b07",
   "metadata": {},
   "source": [
    "**Построим модель линейной регресии и проведем обучение.**"
   ]
  },
  {
   "cell_type": "code",
   "execution_count": 465,
   "id": "da35dd34",
   "metadata": {},
   "outputs": [
    {
     "name": "stdout",
     "output_type": "stream",
     "text": [
      "<class 'pandas.core.frame.DataFrame'>\n",
      "Int64Index: 183 entries, 1 to 889\n",
      "Columns: 455 entries, PassengerId to Embarked_S\n",
      "dtypes: int32(2), int64(5), uint8(448)\n",
      "memory usage: 90.1 KB\n"
     ]
    }
   ],
   "source": [
    "X = pd.get_dummies( data, columns = [ 'Name' ] )\n",
    "X = pd.get_dummies( X, columns = [ 'Sex' ] )\n",
    "X = pd.get_dummies( X, columns = [ 'Ticket' ] )\n",
    "X = pd.get_dummies( X, columns = [ 'Cabin' ] )\n",
    "X = pd.get_dummies( X, columns = [ 'Embarked' ] )\n",
    "\n",
    "X['Age'] = X['Age'].astype('int')\n",
    "X['Fare'] = X['Fare'].astype('int')\n",
    "\n",
    "X.info()\n"
   ]
  },
  {
   "cell_type": "code",
   "execution_count": 466,
   "id": "42a2afe7",
   "metadata": {},
   "outputs": [],
   "source": [
    "y = selectedColumns[['Survived']].values.ravel()"
   ]
  },
  {
   "cell_type": "code",
   "execution_count": 467,
   "id": "c02b5a9c",
   "metadata": {},
   "outputs": [
    {
     "data": {
      "text/plain": [
       "array([[0.23351097, 0.76648903],\n",
       "       [0.85394436, 0.14605564],\n",
       "       [0.00358565, 0.99641435],\n",
       "       [0.51420467, 0.48579533],\n",
       "       [0.12872459, 0.87127541],\n",
       "       [0.64746394, 0.35253606],\n",
       "       [0.80477272, 0.19522728],\n",
       "       [0.00811581, 0.99188419],\n",
       "       [0.23293733, 0.76706267],\n",
       "       [0.69297268, 0.30702732],\n",
       "       [0.58376658, 0.41623342],\n",
       "       [0.01249063, 0.98750937],\n",
       "       [0.67082439, 0.32917561],\n",
       "       [0.01186209, 0.98813791],\n",
       "       [0.41175464, 0.58824536],\n",
       "       [0.07643518, 0.92356482],\n",
       "       [0.00189028, 0.99810972],\n",
       "       [0.08940153, 0.91059847],\n",
       "       [0.15478103, 0.84521897],\n",
       "       [0.19116712, 0.80883288],\n",
       "       [0.01186623, 0.98813377],\n",
       "       [0.00548782, 0.99451218],\n",
       "       [0.05240191, 0.94759809],\n",
       "       [0.09369727, 0.90630273],\n",
       "       [0.63968298, 0.36031702],\n",
       "       [0.01463149, 0.98536851],\n",
       "       [0.0209142 , 0.9790858 ],\n",
       "       [0.68494222, 0.31505778],\n",
       "       [0.01155564, 0.98844436],\n",
       "       [0.01413639, 0.98586361],\n",
       "       [0.00474316, 0.99525684],\n",
       "       [0.82403241, 0.17596759],\n",
       "       [0.50068638, 0.49931362],\n",
       "       [0.01038002, 0.98961998],\n",
       "       [0.47643376, 0.52356624],\n",
       "       [0.17380775, 0.82619225],\n",
       "       [0.01628391, 0.98371609]])"
      ]
     },
     "execution_count": 467,
     "metadata": {},
     "output_type": "execute_result"
    }
   ],
   "source": [
    "X_train, X_test, y_train, y_test = train_test_split(X, y, test_size = 0.2, random_state = 42)\n",
    "len(X_train) + len(X_test) == len(X)\n",
    "\n",
    "model = make_pipeline(\n",
    "StandardScaler(),\n",
    "LogisticRegression(max_iter=1000))\n",
    "\n",
    "#обучаем модель\n",
    "model.fit(X_train,y_train)\n",
    "predictions = model.predict(X_test)\n",
    "predictions[:100]\n",
    "model.predict_proba(X_test)"
   ]
  },
  {
   "cell_type": "markdown",
   "id": "fd748ee7",
   "metadata": {},
   "source": [
    "**Посчитаем метрику качества MSE.**"
   ]
  },
  {
   "cell_type": "code",
   "execution_count": 491,
   "id": "8e4e306f",
   "metadata": {},
   "outputs": [
    {
     "name": "stdout",
     "output_type": "stream",
     "text": [
      "MSE: 0.21935483870967742\n"
     ]
    }
   ],
   "source": [
    "mse_1 = mean_squared_error(y_test, predictions)\n",
    "print(f\"MSE: {mse_1}\")"
   ]
  },
  {
   "cell_type": "markdown",
   "id": "9ed5b535",
   "metadata": {},
   "source": [
    "**Загрузим данные повторно.**"
   ]
  },
  {
   "cell_type": "code",
   "execution_count": 469,
   "id": "80e5596e",
   "metadata": {},
   "outputs": [
    {
     "data": {
      "text/html": [
       "<div>\n",
       "<style scoped>\n",
       "    .dataframe tbody tr th:only-of-type {\n",
       "        vertical-align: middle;\n",
       "    }\n",
       "\n",
       "    .dataframe tbody tr th {\n",
       "        vertical-align: top;\n",
       "    }\n",
       "\n",
       "    .dataframe thead th {\n",
       "        text-align: right;\n",
       "    }\n",
       "</style>\n",
       "<table border=\"1\" class=\"dataframe\">\n",
       "  <thead>\n",
       "    <tr style=\"text-align: right;\">\n",
       "      <th></th>\n",
       "      <th>PassengerId</th>\n",
       "      <th>Survived</th>\n",
       "      <th>Pclass</th>\n",
       "      <th>Name</th>\n",
       "      <th>Sex</th>\n",
       "      <th>Age</th>\n",
       "      <th>SibSp</th>\n",
       "      <th>Parch</th>\n",
       "      <th>Ticket</th>\n",
       "      <th>Fare</th>\n",
       "      <th>Cabin</th>\n",
       "      <th>Embarked</th>\n",
       "    </tr>\n",
       "  </thead>\n",
       "  <tbody>\n",
       "    <tr>\n",
       "      <th>0</th>\n",
       "      <td>1</td>\n",
       "      <td>0</td>\n",
       "      <td>3</td>\n",
       "      <td>Braund, Mr. Owen Harris</td>\n",
       "      <td>male</td>\n",
       "      <td>22.0</td>\n",
       "      <td>1</td>\n",
       "      <td>0</td>\n",
       "      <td>A/5 21171</td>\n",
       "      <td>7.2500</td>\n",
       "      <td>NaN</td>\n",
       "      <td>S</td>\n",
       "    </tr>\n",
       "    <tr>\n",
       "      <th>1</th>\n",
       "      <td>2</td>\n",
       "      <td>1</td>\n",
       "      <td>1</td>\n",
       "      <td>Cumings, Mrs. John Bradley (Florence Briggs Th...</td>\n",
       "      <td>female</td>\n",
       "      <td>38.0</td>\n",
       "      <td>1</td>\n",
       "      <td>0</td>\n",
       "      <td>PC 17599</td>\n",
       "      <td>71.2833</td>\n",
       "      <td>C85</td>\n",
       "      <td>C</td>\n",
       "    </tr>\n",
       "    <tr>\n",
       "      <th>2</th>\n",
       "      <td>3</td>\n",
       "      <td>1</td>\n",
       "      <td>3</td>\n",
       "      <td>Heikkinen, Miss. Laina</td>\n",
       "      <td>female</td>\n",
       "      <td>26.0</td>\n",
       "      <td>0</td>\n",
       "      <td>0</td>\n",
       "      <td>STON/O2. 3101282</td>\n",
       "      <td>7.9250</td>\n",
       "      <td>NaN</td>\n",
       "      <td>S</td>\n",
       "    </tr>\n",
       "    <tr>\n",
       "      <th>3</th>\n",
       "      <td>4</td>\n",
       "      <td>1</td>\n",
       "      <td>1</td>\n",
       "      <td>Futrelle, Mrs. Jacques Heath (Lily May Peel)</td>\n",
       "      <td>female</td>\n",
       "      <td>35.0</td>\n",
       "      <td>1</td>\n",
       "      <td>0</td>\n",
       "      <td>113803</td>\n",
       "      <td>53.1000</td>\n",
       "      <td>C123</td>\n",
       "      <td>S</td>\n",
       "    </tr>\n",
       "    <tr>\n",
       "      <th>4</th>\n",
       "      <td>5</td>\n",
       "      <td>0</td>\n",
       "      <td>3</td>\n",
       "      <td>Allen, Mr. William Henry</td>\n",
       "      <td>male</td>\n",
       "      <td>35.0</td>\n",
       "      <td>0</td>\n",
       "      <td>0</td>\n",
       "      <td>373450</td>\n",
       "      <td>8.0500</td>\n",
       "      <td>NaN</td>\n",
       "      <td>S</td>\n",
       "    </tr>\n",
       "  </tbody>\n",
       "</table>\n",
       "</div>"
      ],
      "text/plain": [
       "   PassengerId  Survived  Pclass  \\\n",
       "0            1         0       3   \n",
       "1            2         1       1   \n",
       "2            3         1       3   \n",
       "3            4         1       1   \n",
       "4            5         0       3   \n",
       "\n",
       "                                                Name     Sex   Age  SibSp  \\\n",
       "0                            Braund, Mr. Owen Harris    male  22.0      1   \n",
       "1  Cumings, Mrs. John Bradley (Florence Briggs Th...  female  38.0      1   \n",
       "2                             Heikkinen, Miss. Laina  female  26.0      0   \n",
       "3       Futrelle, Mrs. Jacques Heath (Lily May Peel)  female  35.0      1   \n",
       "4                           Allen, Mr. William Henry    male  35.0      0   \n",
       "\n",
       "   Parch            Ticket     Fare Cabin Embarked  \n",
       "0      0         A/5 21171   7.2500   NaN        S  \n",
       "1      0          PC 17599  71.2833   C85        C  \n",
       "2      0  STON/O2. 3101282   7.9250   NaN        S  \n",
       "3      0            113803  53.1000  C123        S  \n",
       "4      0            373450   8.0500   NaN        S  "
      ]
     },
     "execution_count": 469,
     "metadata": {},
     "output_type": "execute_result"
    }
   ],
   "source": [
    "data1=pd.read_csv('C:/Users/Лина/Downloads/Обучение/Машинное обучение/Проблема качества данных/ДЗ/train.csv', delimiter=',')\n",
    "data1.head()"
   ]
  },
  {
   "cell_type": "markdown",
   "id": "25acde1e",
   "metadata": {},
   "source": [
    "**Удалим признаки 'PassengerId', 'Name' и 'Ticket', которые логически не нужны для построения модели, так как являются уникальными идентификаторами и не могут использоваться в качестве признаков для обучения.**"
   ]
  },
  {
   "cell_type": "code",
   "execution_count": 470,
   "id": "d1333ba2",
   "metadata": {},
   "outputs": [],
   "source": [
    "data1 = data1 [['Survived', 'Pclass', 'Sex', 'Age', 'SibSp', 'Parch', 'Fare', 'Cabin', 'Embarked' ]]"
   ]
  },
  {
   "cell_type": "markdown",
   "id": "e161f8eb",
   "metadata": {},
   "source": [
    "**Посмотрим в каких полях содержаться нулевые значения.**"
   ]
  },
  {
   "cell_type": "code",
   "execution_count": 471,
   "id": "b8c13eee",
   "metadata": {},
   "outputs": [
    {
     "name": "stdout",
     "output_type": "stream",
     "text": [
      "<class 'pandas.core.frame.DataFrame'>\n",
      "RangeIndex: 891 entries, 0 to 890\n",
      "Data columns (total 9 columns):\n",
      " #   Column    Non-Null Count  Dtype  \n",
      "---  ------    --------------  -----  \n",
      " 0   Survived  891 non-null    int64  \n",
      " 1   Pclass    891 non-null    int64  \n",
      " 2   Sex       891 non-null    object \n",
      " 3   Age       714 non-null    float64\n",
      " 4   SibSp     891 non-null    int64  \n",
      " 5   Parch     891 non-null    int64  \n",
      " 6   Fare      891 non-null    float64\n",
      " 7   Cabin     204 non-null    object \n",
      " 8   Embarked  889 non-null    object \n",
      "dtypes: float64(2), int64(4), object(3)\n",
      "memory usage: 62.8+ KB\n"
     ]
    }
   ],
   "source": [
    "data1.info()"
   ]
  },
  {
   "cell_type": "markdown",
   "id": "a95b8767",
   "metadata": {},
   "source": [
    "**Посчитаем, какой процент данных будет потерян, если просто удалить пропуски.**"
   ]
  },
  {
   "cell_type": "code",
   "execution_count": 472,
   "id": "322bc71a",
   "metadata": {},
   "outputs": [
    {
     "name": "stdout",
     "output_type": "stream",
     "text": [
      "<class 'pandas.core.frame.DataFrame'>\n",
      "Int64Index: 183 entries, 1 to 889\n",
      "Data columns (total 9 columns):\n",
      " #   Column    Non-Null Count  Dtype  \n",
      "---  ------    --------------  -----  \n",
      " 0   Survived  183 non-null    int64  \n",
      " 1   Pclass    183 non-null    int64  \n",
      " 2   Sex       183 non-null    object \n",
      " 3   Age       183 non-null    float64\n",
      " 4   SibSp     183 non-null    int64  \n",
      " 5   Parch     183 non-null    int64  \n",
      " 6   Fare      183 non-null    float64\n",
      " 7   Cabin     183 non-null    object \n",
      " 8   Embarked  183 non-null    object \n",
      "dtypes: float64(2), int64(4), object(3)\n",
      "memory usage: 14.3+ KB\n"
     ]
    }
   ],
   "source": [
    "selectedColumns1 = data1\n",
    "selectedColumns1 = selectedColumns1[ pd.isnull( selectedColumns1['Age'] ) == 0 ]\n",
    "selectedColumns1 = selectedColumns1[ pd.isnull( selectedColumns1['Cabin'] ) == 0 ]\n",
    "selectedColumns1 = selectedColumns1[ pd.isnull( selectedColumns1['Embarked'] ) == 0 ]\n",
    "\n",
    "selectedColumns1.info()"
   ]
  },
  {
   "cell_type": "code",
   "execution_count": 473,
   "id": "9391aa6b",
   "metadata": {},
   "outputs": [
    {
     "name": "stdout",
     "output_type": "stream",
     "text": [
      "Процент данных, утерянный после простого удаления пропусков: 20.54%\n"
     ]
    }
   ],
   "source": [
    "percent_lost = len(selectedColumns1) / len(data1) *  100\n",
    "print(f'Процент данных, утерянный после простого удаления пропусков: {percent_lost:.2f}%')"
   ]
  },
  {
   "cell_type": "markdown",
   "id": "2fb34801",
   "metadata": {},
   "source": [
    "**Посмотрим какой набор значений в категориальных полях, содержащих пропуски.**"
   ]
  },
  {
   "cell_type": "code",
   "execution_count": 474,
   "id": "70bf772b",
   "metadata": {},
   "outputs": [
    {
     "data": {
      "text/plain": [
       "B96 B98        4\n",
       "G6             4\n",
       "C23 C25 C27    4\n",
       "C22 C26        3\n",
       "F33            3\n",
       "              ..\n",
       "E34            1\n",
       "C7             1\n",
       "C54            1\n",
       "E36            1\n",
       "C148           1\n",
       "Name: Cabin, Length: 147, dtype: int64"
      ]
     },
     "execution_count": 474,
     "metadata": {},
     "output_type": "execute_result"
    }
   ],
   "source": [
    "data1['Cabin'].value_counts()"
   ]
  },
  {
   "cell_type": "code",
   "execution_count": 475,
   "id": "1be2c8ed",
   "metadata": {},
   "outputs": [
    {
     "data": {
      "text/plain": [
       "S    644\n",
       "C    168\n",
       "Q     77\n",
       "Name: Embarked, dtype: int64"
      ]
     },
     "execution_count": 475,
     "metadata": {},
     "output_type": "execute_result"
    }
   ],
   "source": [
    "data1['Embarked'].value_counts()"
   ]
  },
  {
   "cell_type": "markdown",
   "id": "c2b65817",
   "metadata": {},
   "source": [
    "**Заполним пропуски в поле 'Age' средним значением.**"
   ]
  },
  {
   "cell_type": "code",
   "execution_count": 476,
   "id": "82bcc8d2",
   "metadata": {},
   "outputs": [],
   "source": [
    "data1['Age'] = data1['Age'].fillna(data1['Age'].mean()).fillna(method='bfill')"
   ]
  },
  {
   "cell_type": "markdown",
   "id": "579a49e6",
   "metadata": {},
   "source": [
    "**Заполним пропуски в поле 'Cabin' значением 'A000'.**"
   ]
  },
  {
   "cell_type": "code",
   "execution_count": 477,
   "id": "faac9979",
   "metadata": {},
   "outputs": [],
   "source": [
    "data1['Cabin'] = data1['Cabin'].fillna(value='A000')"
   ]
  },
  {
   "cell_type": "markdown",
   "id": "70e65d4f",
   "metadata": {},
   "source": [
    "**Заполним пропуски в поле 'Embarked' значением 'W'.**"
   ]
  },
  {
   "cell_type": "code",
   "execution_count": 478,
   "id": "209c1689",
   "metadata": {},
   "outputs": [],
   "source": [
    "data1['Embarked'] = data1['Embarked'].fillna(value='W')"
   ]
  },
  {
   "cell_type": "code",
   "execution_count": 479,
   "id": "cf9c1796",
   "metadata": {},
   "outputs": [
    {
     "name": "stdout",
     "output_type": "stream",
     "text": [
      "<class 'pandas.core.frame.DataFrame'>\n",
      "RangeIndex: 891 entries, 0 to 890\n",
      "Data columns (total 9 columns):\n",
      " #   Column    Non-Null Count  Dtype  \n",
      "---  ------    --------------  -----  \n",
      " 0   Survived  891 non-null    int64  \n",
      " 1   Pclass    891 non-null    int64  \n",
      " 2   Sex       891 non-null    object \n",
      " 3   Age       891 non-null    float64\n",
      " 4   SibSp     891 non-null    int64  \n",
      " 5   Parch     891 non-null    int64  \n",
      " 6   Fare      891 non-null    float64\n",
      " 7   Cabin     891 non-null    object \n",
      " 8   Embarked  891 non-null    object \n",
      "dtypes: float64(2), int64(4), object(3)\n",
      "memory usage: 62.8+ KB\n"
     ]
    }
   ],
   "source": [
    "data1.info()"
   ]
  },
  {
   "cell_type": "markdown",
   "id": "a6f557fb",
   "metadata": {},
   "source": [
    "**Построим графики для анализа данных выборки.**"
   ]
  },
  {
   "cell_type": "code",
   "execution_count": 480,
   "id": "38cb429b",
   "metadata": {},
   "outputs": [
    {
     "data": {
      "image/png": "[encoded data removed]",
      "text/plain": [
       "<Figure size 432x288 with 1 Axes>"
      ]
     },
     "metadata": {
      "needs_background": "light"
     },
     "output_type": "display_data"
    }
   ],
   "source": [
    "plt.hist(data1['Age'])\n",
    "\n",
    "plt.xlabel(\"Значение\")\n",
    "plt.ylabel(\"Частота\")\n",
    "\n",
    "plt.title(\"Гистограмма 'Age'\")\n",
    "\n",
    "plt.show()"
   ]
  },
  {
   "cell_type": "code",
   "execution_count": 481,
   "id": "c585b1ac",
   "metadata": {},
   "outputs": [
    {
     "data": {
      "image/png": "[encoded data removed]",
      "text/plain": [
       "<Figure size 432x288 with 1 Axes>"
      ]
     },
     "metadata": {
      "needs_background": "light"
     },
     "output_type": "display_data"
    }
   ],
   "source": [
    "plt.hist(data1['Cabin'])\n",
    "\n",
    "plt.xlabel(\"Значение\")\n",
    "plt.ylabel(\"Частота\")\n",
    "\n",
    "plt.title(\"Гистограмма 'Cabin'\")\n",
    "# Увеличиваем масштаб по обеим осям\n",
    "plt.xlim([0, 100])  # Устанавливаем новые границы по оси X\n",
    "plt.ylim([0, 50])   # Устанавливаем новые границы по оси Y\n",
    "\n",
    "\n",
    "plt.show()"
   ]
  },
  {
   "cell_type": "code",
   "execution_count": 482,
   "id": "28a5bc12",
   "metadata": {},
   "outputs": [
    {
     "data": {
      "image/png": "[encoded data removed]",
      "text/plain": [
       "<Figure size 432x288 with 1 Axes>"
      ]
     },
     "metadata": {
      "needs_background": "light"
     },
     "output_type": "display_data"
    }
   ],
   "source": [
    "plt.hist(data1['Embarked'])\n",
    "\n",
    "plt.xlabel(\"Значение\")\n",
    "plt.ylabel(\"Частота\")\n",
    "\n",
    "plt.title(\"Гистограмма 'Embarked'\")\n",
    "\n",
    "plt.show()"
   ]
  },
  {
   "cell_type": "code",
   "execution_count": 483,
   "id": "d79a865d",
   "metadata": {},
   "outputs": [
    {
     "data": {
      "image/png": "[encoded data removed]",
      "text/plain": [
       "<Figure size 432x288 with 1 Axes>"
      ]
     },
     "metadata": {
      "needs_background": "light"
     },
     "output_type": "display_data"
    },
    {
     "data": {
      "text/plain": [
       "<Figure size 864x720 with 0 Axes>"
      ]
     },
     "metadata": {},
     "output_type": "display_data"
    }
   ],
   "source": [
    "import matplotlib.pyplot as plt\n",
    "\n",
    "x_values = data['SibSp']\n",
    "y_values = data['Parch']\n",
    "\n",
    "plt.scatter(x_values, y_values)\n",
    "\n",
    "plt.xlabel('SibSp')\n",
    "plt.ylabel('Parch')\n",
    "plt.title(\"Корреляция между признаками 'SibSp' и 'Parch'\")\n",
    "plt.figure(figsize=(12, 10))\n",
    "\n",
    "plt.show()"
   ]
  },
  {
   "cell_type": "code",
   "execution_count": 484,
   "id": "52b99e71",
   "metadata": {},
   "outputs": [
    {
     "data": {
      "image/png": "[encoded data removed]",
      "text/plain": [
       "<Figure size 432x288 with 1 Axes>"
      ]
     },
     "metadata": {
      "needs_background": "light"
     },
     "output_type": "display_data"
    }
   ],
   "source": [
    "plt.hist(data1['Fare'])\n",
    "\n",
    "plt.xlabel(\"Значение\")\n",
    "plt.ylabel(\"Частота\")\n",
    "\n",
    "plt.title(\"Гистограмма 'Fare'\")\n",
    "\n",
    "plt.show()"
   ]
  },
  {
   "cell_type": "markdown",
   "id": "7acbc9bf",
   "metadata": {},
   "source": [
    "**Проверим на наличие выбросов поле 'Fare' и исключим записис с выбросами при их наличии.**"
   ]
  },
  {
   "cell_type": "code",
   "execution_count": 485,
   "id": "45261505",
   "metadata": {},
   "outputs": [
    {
     "name": "stdout",
     "output_type": "stream",
     "text": [
      "Наличие верхних выбросов: True\n",
      "Наличие нижних выбросов: False\n"
     ]
    }
   ],
   "source": [
    "# Определение квантилей\n",
    "q1, q3 = data1['Fare'].quantile([0.25, 0.75])\n",
    "iqr = q3 - q1\n",
    "\n",
    "# Определение верхнего и нижнего выброса\n",
    "upper_outlier = q3 + 1.5  *  iqr\n",
    "lower_outlier = q1 - 1.5  *  iqr\n",
    "\n",
    "# Проверка наличия выбросов\n",
    "has_upper_outliers = data1['Fare'].max() > upper_outlier\n",
    "has_lower_outliers = data1['Fare'].min() < lower_outlier\n",
    "\n",
    "# Вывод результатов\n",
    "print(\"Наличие верхних выбросов:\", has_upper_outliers)\n",
    "print(\"Наличие нижних выбросов:\", has_lower_outliers)\n"
   ]
  },
  {
   "cell_type": "code",
   "execution_count": 486,
   "id": "980acee0",
   "metadata": {},
   "outputs": [],
   "source": [
    "data1 = data1[(data1['Fare'] <= upper_outlier)]"
   ]
  },
  {
   "cell_type": "code",
   "execution_count": 487,
   "id": "9a2d6f03",
   "metadata": {},
   "outputs": [
    {
     "name": "stdout",
     "output_type": "stream",
     "text": [
      "<class 'pandas.core.frame.DataFrame'>\n",
      "Int64Index: 775 entries, 0 to 890\n",
      "Data columns (total 9 columns):\n",
      " #   Column    Non-Null Count  Dtype  \n",
      "---  ------    --------------  -----  \n",
      " 0   Survived  775 non-null    int64  \n",
      " 1   Pclass    775 non-null    int64  \n",
      " 2   Sex       775 non-null    object \n",
      " 3   Age       775 non-null    float64\n",
      " 4   SibSp     775 non-null    int64  \n",
      " 5   Parch     775 non-null    int64  \n",
      " 6   Fare      775 non-null    float64\n",
      " 7   Cabin     775 non-null    object \n",
      " 8   Embarked  775 non-null    object \n",
      "dtypes: float64(2), int64(4), object(3)\n",
      "memory usage: 60.5+ KB\n"
     ]
    }
   ],
   "source": [
    "data1.info()"
   ]
  },
  {
   "cell_type": "markdown",
   "id": "c357c088",
   "metadata": {},
   "source": [
    "**Переведем категориальные значения в цифровые.**"
   ]
  },
  {
   "cell_type": "code",
   "execution_count": 488,
   "id": "b73126dc",
   "metadata": {},
   "outputs": [
    {
     "name": "stdout",
     "output_type": "stream",
     "text": [
      "<class 'pandas.core.frame.DataFrame'>\n",
      "Int64Index: 775 entries, 0 to 890\n",
      "Data columns (total 98 columns):\n",
      " #   Column             Non-Null Count  Dtype\n",
      "---  ------             --------------  -----\n",
      " 0   Pclass             775 non-null    int64\n",
      " 1   Age                775 non-null    int32\n",
      " 2   SibSp              775 non-null    int64\n",
      " 3   Parch              775 non-null    int64\n",
      " 4   Fare               775 non-null    int32\n",
      " 5   Sex_female         775 non-null    uint8\n",
      " 6   Sex_male           775 non-null    uint8\n",
      " 7   Cabin_A000         775 non-null    uint8\n",
      " 8   Cabin_A10          775 non-null    uint8\n",
      " 9   Cabin_A14          775 non-null    uint8\n",
      " 10  Cabin_A16          775 non-null    uint8\n",
      " 11  Cabin_A19          775 non-null    uint8\n",
      " 12  Cabin_A20          775 non-null    uint8\n",
      " 13  Cabin_A23          775 non-null    uint8\n",
      " 14  Cabin_A24          775 non-null    uint8\n",
      " 15  Cabin_A26          775 non-null    uint8\n",
      " 16  Cabin_A31          775 non-null    uint8\n",
      " 17  Cabin_A32          775 non-null    uint8\n",
      " 18  Cabin_A36          775 non-null    uint8\n",
      " 19  Cabin_A5           775 non-null    uint8\n",
      " 20  Cabin_A6           775 non-null    uint8\n",
      " 21  Cabin_A7           775 non-null    uint8\n",
      " 22  Cabin_B102         775 non-null    uint8\n",
      " 23  Cabin_B18          775 non-null    uint8\n",
      " 24  Cabin_B19          775 non-null    uint8\n",
      " 25  Cabin_B20          775 non-null    uint8\n",
      " 26  Cabin_B30          775 non-null    uint8\n",
      " 27  Cabin_B37          775 non-null    uint8\n",
      " 28  Cabin_B38          775 non-null    uint8\n",
      " 29  Cabin_B39          775 non-null    uint8\n",
      " 30  Cabin_B4           775 non-null    uint8\n",
      " 31  Cabin_B42          775 non-null    uint8\n",
      " 32  Cabin_B50          775 non-null    uint8\n",
      " 33  Cabin_B51 B53 B55  775 non-null    uint8\n",
      " 34  Cabin_B71          775 non-null    uint8\n",
      " 35  Cabin_B94          775 non-null    uint8\n",
      " 36  Cabin_C101         775 non-null    uint8\n",
      " 37  Cabin_C103         775 non-null    uint8\n",
      " 38  Cabin_C104         775 non-null    uint8\n",
      " 39  Cabin_C106         775 non-null    uint8\n",
      " 40  Cabin_C110         775 non-null    uint8\n",
      " 41  Cabin_C111         775 non-null    uint8\n",
      " 42  Cabin_C118         775 non-null    uint8\n",
      " 43  Cabin_C123         775 non-null    uint8\n",
      " 44  Cabin_C124         775 non-null    uint8\n",
      " 45  Cabin_C126         775 non-null    uint8\n",
      " 46  Cabin_C128         775 non-null    uint8\n",
      " 47  Cabin_C148         775 non-null    uint8\n",
      " 48  Cabin_C30          775 non-null    uint8\n",
      " 49  Cabin_C47          775 non-null    uint8\n",
      " 50  Cabin_C49          775 non-null    uint8\n",
      " 51  Cabin_C52          775 non-null    uint8\n",
      " 52  Cabin_C87          775 non-null    uint8\n",
      " 53  Cabin_C90          775 non-null    uint8\n",
      " 54  Cabin_D            775 non-null    uint8\n",
      " 55  Cabin_D10 D12      775 non-null    uint8\n",
      " 56  Cabin_D17          775 non-null    uint8\n",
      " 57  Cabin_D19          775 non-null    uint8\n",
      " 58  Cabin_D21          775 non-null    uint8\n",
      " 59  Cabin_D28          775 non-null    uint8\n",
      " 60  Cabin_D30          775 non-null    uint8\n",
      " 61  Cabin_D35          775 non-null    uint8\n",
      " 62  Cabin_D45          775 non-null    uint8\n",
      " 63  Cabin_D46          775 non-null    uint8\n",
      " 64  Cabin_D47          775 non-null    uint8\n",
      " 65  Cabin_D50          775 non-null    uint8\n",
      " 66  Cabin_D56          775 non-null    uint8\n",
      " 67  Cabin_D6           775 non-null    uint8\n",
      " 68  Cabin_E10          775 non-null    uint8\n",
      " 69  Cabin_E101         775 non-null    uint8\n",
      " 70  Cabin_E12          775 non-null    uint8\n",
      " 71  Cabin_E121         775 non-null    uint8\n",
      " 72  Cabin_E17          775 non-null    uint8\n",
      " 73  Cabin_E24          775 non-null    uint8\n",
      " 74  Cabin_E25          775 non-null    uint8\n",
      " 75  Cabin_E31          775 non-null    uint8\n",
      " 76  Cabin_E33          775 non-null    uint8\n",
      " 77  Cabin_E36          775 non-null    uint8\n",
      " 78  Cabin_E38          775 non-null    uint8\n",
      " 79  Cabin_E44          775 non-null    uint8\n",
      " 80  Cabin_E46          775 non-null    uint8\n",
      " 81  Cabin_E50          775 non-null    uint8\n",
      " 82  Cabin_E58          775 non-null    uint8\n",
      " 83  Cabin_E63          775 non-null    uint8\n",
      " 84  Cabin_E77          775 non-null    uint8\n",
      " 85  Cabin_E8           775 non-null    uint8\n",
      " 86  Cabin_F E69        775 non-null    uint8\n",
      " 87  Cabin_F G63        775 non-null    uint8\n",
      " 88  Cabin_F G73        775 non-null    uint8\n",
      " 89  Cabin_F2           775 non-null    uint8\n",
      " 90  Cabin_F33          775 non-null    uint8\n",
      " 91  Cabin_F38          775 non-null    uint8\n",
      " 92  Cabin_F4           775 non-null    uint8\n",
      " 93  Cabin_G6           775 non-null    uint8\n",
      " 94  Cabin_T            775 non-null    uint8\n",
      " 95  Embarked_C         775 non-null    uint8\n",
      " 96  Embarked_Q         775 non-null    uint8\n",
      " 97  Embarked_S         775 non-null    uint8\n",
      "dtypes: int32(2), int64(3), uint8(93)\n",
      "memory usage: 100.7 KB\n"
     ]
    }
   ],
   "source": [
    "X = data1\n",
    "X = X[['Pclass', 'Sex', 'Age', 'SibSp', 'Parch', 'Fare', 'Cabin', 'Embarked' ]]\n",
    "\n",
    "X = pd.get_dummies( X, columns = [ 'Sex' ] )\n",
    "X = pd.get_dummies( X, columns = [ 'Cabin' ] )\n",
    "X = pd.get_dummies( X, columns = [ 'Embarked' ] )\n",
    "\n",
    "X[['Age']] = X[['Age']].astype(int)\n",
    "X[['Fare']] = X[['Fare']].astype(int)\n",
    "X.info()"
   ]
  },
  {
   "cell_type": "markdown",
   "id": "5af6a048",
   "metadata": {},
   "source": [
    "**Обучим модель на подготовленном датасете.**"
   ]
  },
  {
   "cell_type": "code",
   "execution_count": 489,
   "id": "a5adbfe4",
   "metadata": {},
   "outputs": [],
   "source": [
    "y = data1[['Survived']].values.ravel()"
   ]
  },
  {
   "cell_type": "code",
   "execution_count": 490,
   "id": "c337e9d6",
   "metadata": {},
   "outputs": [
    {
     "data": {
      "text/plain": [
       "array([[0.86656597, 0.13343403],\n",
       "       [0.28744926, 0.71255074],\n",
       "       [0.89843876, 0.10156124],\n",
       "       [0.99285661, 0.00714339],\n",
       "       [0.37967127, 0.62032873],\n",
       "       [0.88833814, 0.11166186],\n",
       "       [0.43384182, 0.56615818],\n",
       "       [0.34089635, 0.65910365],\n",
       "       [0.90992414, 0.09007586],\n",
       "       [0.47995562, 0.52004438],\n",
       "       [0.57191235, 0.42808765],\n",
       "       [0.95547158, 0.04452842],\n",
       "       [0.96695257, 0.03304743],\n",
       "       [0.00631013, 0.99368987],\n",
       "       [0.91005236, 0.08994764],\n",
       "       [0.91397677, 0.08602323],\n",
       "       [0.79566886, 0.20433114],\n",
       "       [0.92611263, 0.07388737],\n",
       "       [0.34089635, 0.65910365],\n",
       "       [0.65650976, 0.34349024],\n",
       "       [0.88150157, 0.11849843],\n",
       "       [0.86815015, 0.13184985],\n",
       "       [0.65209747, 0.34790253],\n",
       "       [0.4319173 , 0.5680827 ],\n",
       "       [0.84182215, 0.15817785],\n",
       "       [0.35562532, 0.64437468],\n",
       "       [0.35797568, 0.64202432],\n",
       "       [0.92113054, 0.07886946],\n",
       "       [0.26964728, 0.73035272],\n",
       "       [0.9203326 , 0.0796674 ],\n",
       "       [0.88994426, 0.11005574],\n",
       "       [0.85595776, 0.14404224],\n",
       "       [0.89732476, 0.10267524],\n",
       "       [0.89732476, 0.10267524],\n",
       "       [0.91981572, 0.08018428],\n",
       "       [0.88947735, 0.11052265],\n",
       "       [0.48653367, 0.51346633],\n",
       "       [0.64895343, 0.35104657],\n",
       "       [0.92628208, 0.07371792],\n",
       "       [0.92302317, 0.07697683],\n",
       "       [0.83594455, 0.16405545],\n",
       "       [0.89789227, 0.10210773],\n",
       "       [0.88947735, 0.11052265],\n",
       "       [0.91739681, 0.08260319],\n",
       "       [0.2043867 , 0.7956133 ],\n",
       "       [0.91648671, 0.08351329],\n",
       "       [0.08750629, 0.91249371],\n",
       "       [0.91694289, 0.08305711],\n",
       "       [0.19365252, 0.80634748],\n",
       "       [0.58591706, 0.41408294],\n",
       "       [0.40705427, 0.59294573],\n",
       "       [0.86779937, 0.13220063],\n",
       "       [0.91694289, 0.08305711],\n",
       "       [0.86951316, 0.13048684],\n",
       "       [0.88994426, 0.11005574],\n",
       "       [0.91981572, 0.08018428],\n",
       "       [0.88947735, 0.11052265],\n",
       "       [0.10539275, 0.89460725],\n",
       "       [0.91694289, 0.08305711],\n",
       "       [0.00790909, 0.99209091],\n",
       "       [0.91559948, 0.08440052],\n",
       "       [0.8850462 , 0.1149538 ],\n",
       "       [0.87636797, 0.12363203],\n",
       "       [0.86781985, 0.13218015],\n",
       "       [0.24726945, 0.75273055],\n",
       "       [0.83088247, 0.16911753],\n",
       "       [0.2196686 , 0.7803314 ],\n",
       "       [0.90944966, 0.09055034],\n",
       "       [0.0459297 , 0.9540703 ],\n",
       "       [0.62068738, 0.37931262],\n",
       "       [0.00664658, 0.99335342],\n",
       "       [0.88579093, 0.11420907],\n",
       "       [0.91352755, 0.08647245],\n",
       "       [0.44500807, 0.55499193],\n",
       "       [0.47669594, 0.52330406],\n",
       "       [0.87247593, 0.12752407],\n",
       "       [0.46772251, 0.53227749],\n",
       "       [0.87821235, 0.12178765],\n",
       "       [0.91694289, 0.08305711],\n",
       "       [0.41614659, 0.58385341],\n",
       "       [0.47355619, 0.52644381],\n",
       "       [0.9774446 , 0.0225554 ],\n",
       "       [0.92731784, 0.07268216],\n",
       "       [0.57260656, 0.42739344],\n",
       "       [0.75970309, 0.24029691],\n",
       "       [0.27221589, 0.72778411],\n",
       "       [0.9481827 , 0.0518173 ],\n",
       "       [0.5839842 , 0.4160158 ],\n",
       "       [0.10510838, 0.89489162],\n",
       "       [0.23224001, 0.76775999],\n",
       "       [0.86063886, 0.13936114],\n",
       "       [0.34479897, 0.65520103],\n",
       "       [0.00575151, 0.99424849],\n",
       "       [0.51199802, 0.48800198],\n",
       "       [0.79018986, 0.20981014],\n",
       "       [0.06799478, 0.93200522],\n",
       "       [0.94699393, 0.05300607],\n",
       "       [0.91467063, 0.08532937],\n",
       "       [0.90035882, 0.09964118],\n",
       "       [0.009851  , 0.990149  ],\n",
       "       [0.02723394, 0.97276606],\n",
       "       [0.34089635, 0.65910365],\n",
       "       [0.89064667, 0.10935333],\n",
       "       [0.94835419, 0.05164581],\n",
       "       [0.87701389, 0.12298611],\n",
       "       [0.22526304, 0.77473696],\n",
       "       [0.74052704, 0.25947296],\n",
       "       [0.78817462, 0.21182538],\n",
       "       [0.93686083, 0.06313917],\n",
       "       [0.93469589, 0.06530411],\n",
       "       [0.65650976, 0.34349024],\n",
       "       [0.2048575 , 0.7951425 ],\n",
       "       [0.93507178, 0.06492822],\n",
       "       [0.09692791, 0.90307209],\n",
       "       [0.66755779, 0.33244221],\n",
       "       [0.33776261, 0.66223739],\n",
       "       [0.68495824, 0.31504176],\n",
       "       [0.87679494, 0.12320506],\n",
       "       [0.86815015, 0.13184985],\n",
       "       [0.66319592, 0.33680408],\n",
       "       [0.91981572, 0.08018428],\n",
       "       [0.1904184 , 0.8095816 ],\n",
       "       [0.27726201, 0.72273799],\n",
       "       [0.82893081, 0.17106919],\n",
       "       [0.47355619, 0.52644381],\n",
       "       [0.94220361, 0.05779639],\n",
       "       [0.24414193, 0.75585807],\n",
       "       [0.00348182, 0.99651818],\n",
       "       [0.9426895 , 0.0573105 ],\n",
       "       [0.03895453, 0.96104547],\n",
       "       [0.87149559, 0.12850441],\n",
       "       [0.86815015, 0.13184985],\n",
       "       [0.0219574 , 0.9780426 ],\n",
       "       [0.87148717, 0.12851283],\n",
       "       [0.87701389, 0.12298611],\n",
       "       [0.26928729, 0.73071271],\n",
       "       [0.84424117, 0.15575883],\n",
       "       [0.91306753, 0.08693247],\n",
       "       [0.91694289, 0.08305711],\n",
       "       [0.95547158, 0.04452842],\n",
       "       [0.84380723, 0.15619277],\n",
       "       [0.93991189, 0.06008811],\n",
       "       [0.43278435, 0.56721565],\n",
       "       [0.45795191, 0.54204809],\n",
       "       [0.69464731, 0.30535269],\n",
       "       [0.93064856, 0.06935144],\n",
       "       [0.62660148, 0.37339852],\n",
       "       [0.34089635, 0.65910365],\n",
       "       [0.93736039, 0.06263961],\n",
       "       [0.66699726, 0.33300274],\n",
       "       [0.18328622, 0.81671378],\n",
       "       [0.12521015, 0.87478985],\n",
       "       [0.91981572, 0.08018428],\n",
       "       [0.95707414, 0.04292586],\n",
       "       [0.92131908, 0.07868092]])"
      ]
     },
     "execution_count": 490,
     "metadata": {},
     "output_type": "execute_result"
    }
   ],
   "source": [
    "X_train, X_test, y_train, y_test = train_test_split(X, y, test_size = 0.2, random_state = 1)\n",
    "len(X_train) + len(X_test) == len(X)\n",
    "\n",
    "model = make_pipeline(\n",
    "StandardScaler(),\n",
    "LogisticRegression(max_iter=1000))\n",
    "\n",
    "#обучаем модель\n",
    "model.fit(X_train,y_train)\n",
    "predictions = model.predict(X_test)\n",
    "predictions[:100]\n",
    "model.predict_proba(X_test)"
   ]
  },
  {
   "cell_type": "markdown",
   "id": "55c362ed",
   "metadata": {},
   "source": [
    "**Посчитаем метрику качества MSE.**"
   ]
  },
  {
   "cell_type": "code",
   "execution_count": 468,
   "id": "c06549cc",
   "metadata": {},
   "outputs": [
    {
     "name": "stdout",
     "output_type": "stream",
     "text": [
      "MSE: 0.13513513513513514\n"
     ]
    }
   ],
   "source": [
    "mse_1 = mean_squared_error(y_test, predictions)\n",
    "print(f\"MSE: {mse_1}\")"
   ]
  },
  {
   "cell_type": "markdown",
   "id": "f5318be5",
   "metadata": {},
   "source": [
    "**Выводы.**"
   ]
  },
  {
   "cell_type": "markdown",
   "id": "994fabae",
   "metadata": {},
   "source": [
    "Для обучения модели начальный датасет был преобразован в более валидную форму:\n",
    "1) пропуски данных были заполнены соответствующими значениями (средним, где это имеет смысл, и константами для категориальных полей)\n",
    "\n",
    "2) значениям категориальных полей сопоставлены цифровые значения\n",
    "\n",
    "3) поведение признаков изучено на графиках, исключены выбросы.\n",
    "\n",
    "Итогом преобразований стало получение лучшего значения критерия качества MSE.\n",
    "Таким образом можно сделать вывод, что предварительная работа с датасетом для обучения модели является важной неотъемлемой частью для получения хорошего результата."
   ]
  }
 ],
 "metadata": {
  "kernelspec": {
   "display_name": "Python 3 (ipykernel)",
   "language": "python",
   "name": "python3"
  },
  "language_info": {
   "codemirror_mode": {
    "name": "ipython",
    "version": 3
   },
   "file_extension": ".py",
   "mimetype": "text/x-python",
   "name": "python",
   "nbconvert_exporter": "python",
   "pygments_lexer": "ipython3",
   "version": "3.9.12"
  }
 },
 "nbformat": 4,
 "nbformat_minor": 5
}
