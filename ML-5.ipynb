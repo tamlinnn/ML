{
 "cells": [
  {
   "cell_type": "code",
   "execution_count": 384,
   "id": "57b0bfdf",
   "metadata": {},
   "outputs": [],
   "source": [
    "import numpy as np\n",
    "import pandas as pd\n",
    "import matplotlib.pyplot as plt\n",
    "import tabulate\n",
    "\n",
    "from sklearn import datasets\n",
    "from sklearn.datasets import make_blobs\n",
    "from sklearn.datasets import fetch_california_housing\n",
    "\n",
    "from sklearn.model_selection import train_test_split\n",
    "from sklearn.preprocessing import StandardScaler\n",
    "from sklearn.linear_model import LogisticRegression\n",
    "from sklearn.model_selection import train_test_split\n",
    "from sklearn.preprocessing import LabelEncoder\n",
    "le = LabelEncoder()\n",
    "from sklearn.pipeline import make_pipeline\n",
    "\n",
    "#для расчета ROC-кривой\n",
    "from sklearn.metrics import roc_curve\n",
    "from sklearn.metrics import roc_auc_score\n",
    "from sklearn.metrics import auc\n",
    "\n",
    "from sklearn.metrics import accuracy_score #доля правильных ответов в классификации\n",
    "from sklearn.metrics import mean_squared_error\n",
    "from sklearn.metrics import r2_score\n",
    "\n",
    "#для визуализации корелляционной матрицы\n",
    "import seaborn as sns"
   ]
  },
  {
   "cell_type": "markdown",
   "id": "c98f5ec0",
   "metadata": {},
   "source": [
    "**Загрузим датасет и проверим на наличие нулевых значений.**"
   ]
  },
  {
   "cell_type": "code",
   "execution_count": 385,
   "id": "dda0f955",
   "metadata": {},
   "outputs": [
    {
     "name": "stdout",
     "output_type": "stream",
     "text": [
      "(20640, 8) (20640,)\n"
     ]
    }
   ],
   "source": [
    "housing = datasets.fetch_california_housing(as_frame = True)\n",
    "print(housing.data.shape, housing.target.shape)"
   ]
  },
  {
   "cell_type": "code",
   "execution_count": 386,
   "id": "2cf7f281",
   "metadata": {},
   "outputs": [
    {
     "name": "stdout",
     "output_type": "stream",
     "text": [
      ".. _california_housing_dataset:\n",
      "\n",
      "California Housing dataset\n",
      "--------------------------\n",
      "\n",
      "**Data Set Characteristics:**\n",
      "\n",
      "    :Number of Instances: 20640\n",
      "\n",
      "    :Number of Attributes: 8 numeric, predictive attributes and the target\n",
      "\n",
      "    :Attribute Information:\n",
      "        - MedInc        median income in block group\n",
      "        - HouseAge      median house age in block group\n",
      "        - AveRooms      average number of rooms per household\n",
      "        - AveBedrms     average number of bedrooms per household\n",
      "        - Population    block group population\n",
      "        - AveOccup      average number of household members\n",
      "        - Latitude      block group latitude\n",
      "        - Longitude     block group longitude\n",
      "\n",
      "    :Missing Attribute Values: None\n",
      "\n",
      "This dataset was obtained from the StatLib repository.\n",
      "https://www.dcc.fc.up.pt/~ltorgo/Regression/cal_housing.html\n",
      "\n",
      "The target variable is the median house value for California districts,\n",
      "expressed in hundreds of thousands of dollars ($100,000).\n",
      "\n",
      "This dataset was derived from the 1990 U.S. census, using one row per census\n",
      "block group. A block group is the smallest geographical unit for which the U.S.\n",
      "Census Bureau publishes sample data (a block group typically has a population\n",
      "of 600 to 3,000 people).\n",
      "\n",
      "An household is a group of people residing within a home. Since the average\n",
      "number of rooms and bedrooms in this dataset are provided per household, these\n",
      "columns may take surpinsingly large values for block groups with few households\n",
      "and many empty houses, such as vacation resorts.\n",
      "\n",
      "It can be downloaded/loaded using the\n",
      ":func:`sklearn.datasets.fetch_california_housing` function.\n",
      "\n",
      ".. topic:: References\n",
      "\n",
      "    - Pace, R. Kelley and Ronald Barry, Sparse Spatial Autoregressions,\n",
      "      Statistics and Probability Letters, 33 (1997) 291-297\n",
      "\n"
     ]
    }
   ],
   "source": [
    "print(fetch_california_housing().DESCR)"
   ]
  },
  {
   "cell_type": "code",
   "execution_count": 387,
   "id": "9f0cae52",
   "metadata": {},
   "outputs": [
    {
     "data": {
      "text/html": [
       "<div>\n",
       "<style scoped>\n",
       "    .dataframe tbody tr th:only-of-type {\n",
       "        vertical-align: middle;\n",
       "    }\n",
       "\n",
       "    .dataframe tbody tr th {\n",
       "        vertical-align: top;\n",
       "    }\n",
       "\n",
       "    .dataframe thead th {\n",
       "        text-align: right;\n",
       "    }\n",
       "</style>\n",
       "<table border=\"1\" class=\"dataframe\">\n",
       "  <thead>\n",
       "    <tr style=\"text-align: right;\">\n",
       "      <th></th>\n",
       "      <th>MedInc</th>\n",
       "      <th>HouseAge</th>\n",
       "      <th>AveRooms</th>\n",
       "      <th>AveBedrms</th>\n",
       "      <th>Population</th>\n",
       "      <th>AveOccup</th>\n",
       "      <th>Latitude</th>\n",
       "      <th>Longitude</th>\n",
       "    </tr>\n",
       "  </thead>\n",
       "  <tbody>\n",
       "    <tr>\n",
       "      <th>0</th>\n",
       "      <td>8.3252</td>\n",
       "      <td>41.0</td>\n",
       "      <td>6.984127</td>\n",
       "      <td>1.023810</td>\n",
       "      <td>322.0</td>\n",
       "      <td>2.555556</td>\n",
       "      <td>37.88</td>\n",
       "      <td>-122.23</td>\n",
       "    </tr>\n",
       "    <tr>\n",
       "      <th>1</th>\n",
       "      <td>8.3014</td>\n",
       "      <td>21.0</td>\n",
       "      <td>6.238137</td>\n",
       "      <td>0.971880</td>\n",
       "      <td>2401.0</td>\n",
       "      <td>2.109842</td>\n",
       "      <td>37.86</td>\n",
       "      <td>-122.22</td>\n",
       "    </tr>\n",
       "    <tr>\n",
       "      <th>2</th>\n",
       "      <td>7.2574</td>\n",
       "      <td>52.0</td>\n",
       "      <td>8.288136</td>\n",
       "      <td>1.073446</td>\n",
       "      <td>496.0</td>\n",
       "      <td>2.802260</td>\n",
       "      <td>37.85</td>\n",
       "      <td>-122.24</td>\n",
       "    </tr>\n",
       "    <tr>\n",
       "      <th>3</th>\n",
       "      <td>5.6431</td>\n",
       "      <td>52.0</td>\n",
       "      <td>5.817352</td>\n",
       "      <td>1.073059</td>\n",
       "      <td>558.0</td>\n",
       "      <td>2.547945</td>\n",
       "      <td>37.85</td>\n",
       "      <td>-122.25</td>\n",
       "    </tr>\n",
       "    <tr>\n",
       "      <th>4</th>\n",
       "      <td>3.8462</td>\n",
       "      <td>52.0</td>\n",
       "      <td>6.281853</td>\n",
       "      <td>1.081081</td>\n",
       "      <td>565.0</td>\n",
       "      <td>2.181467</td>\n",
       "      <td>37.85</td>\n",
       "      <td>-122.25</td>\n",
       "    </tr>\n",
       "  </tbody>\n",
       "</table>\n",
       "</div>"
      ],
      "text/plain": [
       "   MedInc  HouseAge  AveRooms  AveBedrms  Population  AveOccup  Latitude  \\\n",
       "0  8.3252      41.0  6.984127   1.023810       322.0  2.555556     37.88   \n",
       "1  8.3014      21.0  6.238137   0.971880      2401.0  2.109842     37.86   \n",
       "2  7.2574      52.0  8.288136   1.073446       496.0  2.802260     37.85   \n",
       "3  5.6431      52.0  5.817352   1.073059       558.0  2.547945     37.85   \n",
       "4  3.8462      52.0  6.281853   1.081081       565.0  2.181467     37.85   \n",
       "\n",
       "   Longitude  \n",
       "0    -122.23  \n",
       "1    -122.22  \n",
       "2    -122.24  \n",
       "3    -122.25  \n",
       "4    -122.25  "
      ]
     },
     "execution_count": 387,
     "metadata": {},
     "output_type": "execute_result"
    }
   ],
   "source": [
    "housing = datasets.fetch_california_housing(as_frame=True)\n",
    "housing_df = housing.data\n",
    "housing_df.head()"
   ]
  },
  {
   "cell_type": "code",
   "execution_count": 388,
   "id": "628bdbe1",
   "metadata": {},
   "outputs": [
    {
     "name": "stdout",
     "output_type": "stream",
     "text": [
      "<class 'pandas.core.frame.DataFrame'>\n",
      "RangeIndex: 20640 entries, 0 to 20639\n",
      "Data columns (total 8 columns):\n",
      " #   Column      Non-Null Count  Dtype  \n",
      "---  ------      --------------  -----  \n",
      " 0   MedInc      20640 non-null  float64\n",
      " 1   HouseAge    20640 non-null  float64\n",
      " 2   AveRooms    20640 non-null  float64\n",
      " 3   AveBedrms   20640 non-null  float64\n",
      " 4   Population  20640 non-null  float64\n",
      " 5   AveOccup    20640 non-null  float64\n",
      " 6   Latitude    20640 non-null  float64\n",
      " 7   Longitude   20640 non-null  float64\n",
      "dtypes: float64(8)\n",
      "memory usage: 1.3 MB\n"
     ]
    }
   ],
   "source": [
    "housing_df.info()"
   ]
  },
  {
   "cell_type": "markdown",
   "id": "e1b4e5d3",
   "metadata": {},
   "source": [
    "Пропуски в данных отсутствуют."
   ]
  },
  {
   "cell_type": "markdown",
   "id": "bee5c157",
   "metadata": {},
   "source": [
    "**Разделите выборку на обучающее и тестовое подмножества.**"
   ]
  },
  {
   "cell_type": "code",
   "execution_count": 389,
   "id": "9ad1276e",
   "metadata": {},
   "outputs": [
    {
     "name": "stdout",
     "output_type": "stream",
     "text": [
      "20640\n",
      "0        4\n",
      "1        3\n",
      "2        3\n",
      "3        3\n",
      "4        3\n",
      "        ..\n",
      "20635    0\n",
      "20636    0\n",
      "20637    0\n",
      "20638    0\n",
      "20639    0\n",
      "Name: MedHouseVal, Length: 20640, dtype: int32\n"
     ]
    }
   ],
   "source": [
    "X = housing_df\n",
    "y = housing.target.astype(int)\n",
    "print(len(X))\n",
    "print(y)"
   ]
  },
  {
   "cell_type": "code",
   "execution_count": 390,
   "id": "05b61371",
   "metadata": {},
   "outputs": [],
   "source": [
    "X_train, X_test, y_train, y_test = train_test_split(X, y, test_size=0.2, random_state=42)\n",
    "\n",
    "scaler = StandardScaler()\n",
    "X_train = scaler.fit_transform(X_train)\n",
    "X_test = scaler.transform(X_test)"
   ]
  },
  {
   "cell_type": "markdown",
   "id": "0ab5c296",
   "metadata": {},
   "source": [
    "**Строим модель линейной регрессии и обучаем ее.**"
   ]
  },
  {
   "cell_type": "code",
   "execution_count": 391,
   "id": "6a65c8e9",
   "metadata": {},
   "outputs": [
    {
     "data": {
      "text/plain": [
       "array([[7.53387652e-01, 2.42968161e-01, 3.54904346e-03, 9.23270792e-05,\n",
       "        2.71241640e-06, 1.03597875e-07],\n",
       "       [1.27873594e-01, 6.33885230e-01, 2.05313062e-01, 2.75065105e-02,\n",
       "        4.37927682e-03, 1.04232632e-03],\n",
       "       [3.85548024e-03, 1.01233646e-01, 3.44495054e-01, 1.94944097e-01,\n",
       "        1.88131594e-01, 1.67340129e-01],\n",
       "       ...,\n",
       "       [1.07981666e-08, 2.85366937e-04, 4.33249033e-02, 2.34878325e-01,\n",
       "        2.07185676e-01, 5.14325718e-01],\n",
       "       [5.14000128e-01, 4.59624002e-01, 2.50277395e-02, 1.19828423e-03,\n",
       "        1.41649775e-04, 8.19606694e-06],\n",
       "       [3.19570945e-02, 6.41278689e-01, 2.72237868e-01, 4.93454608e-02,\n",
       "        4.03827221e-03, 1.14261552e-03]])"
      ]
     },
     "execution_count": 391,
     "metadata": {},
     "output_type": "execute_result"
    }
   ],
   "source": [
    "model = make_pipeline(\n",
    "StandardScaler(),\n",
    "LogisticRegression(max_iter=1000))\n",
    "\n",
    "#обучаем модель\n",
    "model.fit(X_train,y_train)\n",
    "predictions = model.predict(X_test)\n",
    "predictions[:100]\n",
    "model.predict_proba(X_test)"
   ]
  },
  {
   "cell_type": "markdown",
   "id": "c37ab461",
   "metadata": {},
   "source": [
    "**Вычислите метрики RMSE, R2.**"
   ]
  },
  {
   "cell_type": "code",
   "execution_count": 368,
   "id": "ced68e7a",
   "metadata": {},
   "outputs": [
    {
     "name": "stdout",
     "output_type": "stream",
     "text": [
      "RMSE1: 0.9652388546425325\n",
      "R2: 0.405914856749908\n"
     ]
    }
   ],
   "source": [
    "# Расчет RMSE\n",
    "rmse_1 = np.sqrt(mean_squared_error(y_test, predictions))\n",
    "print(\"RMSE1:\", rmse_1)\n",
    "\n",
    "# Расчет R2\n",
    "r2_1 = r2_score(y_test, predictions)\n",
    "print(\"R2:\", r2_1)"
   ]
  },
  {
   "cell_type": "code",
   "execution_count": 392,
   "id": "106dff7a",
   "metadata": {},
   "outputs": [],
   "source": [
    "X_1 = list(X.columns)"
   ]
  },
  {
   "cell_type": "markdown",
   "id": "5049a86f",
   "metadata": {},
   "source": [
    "**Построим график распределения целевой переменной.**"
   ]
  },
  {
   "cell_type": "code",
   "execution_count": 393,
   "id": "12b6881b",
   "metadata": {},
   "outputs": [
    {
     "data": {
      "image/png": "[encoded data removed]",
      "text/plain": [
       "<Figure size 432x288 with 1 Axes>"
      ]
     },
     "metadata": {
      "needs_background": "light"
     },
     "output_type": "display_data"
    }
   ],
   "source": [
    "# Создаем гистограмму распределения переменной y\n",
    "plt.hist(y, bins=range(1, 10), color='blue')\n",
    "plt.xlabel('y')\n",
    "plt.ylabel('Частота')\n",
    "plt.title('Распределение переменной y')\n",
    "plt.show()\n"
   ]
  },
  {
   "cell_type": "markdown",
   "id": "22b5fc3e",
   "metadata": {},
   "source": [
    "Распределение значений целевой переменной смещено вправо к значениям между 1 и 2.\n",
    "\n",
    "Выбросы на данной диаграмме однозначно не выявлены."
   ]
  },
  {
   "cell_type": "markdown",
   "id": "9bdc3753",
   "metadata": {},
   "source": [
    "**Посчитаем и выведем корреляционную матрицу.**"
   ]
  },
  {
   "cell_type": "code",
   "execution_count": 394,
   "id": "62c483f1",
   "metadata": {},
   "outputs": [
    {
     "data": {
      "image/png": "[encoded data removed]",
      "text/plain": [
       "<Figure size 432x288 with 2 Axes>"
      ]
     },
     "metadata": {
      "needs_background": "light"
     },
     "output_type": "display_data"
    }
   ],
   "source": [
    "sns.heatmap(X.corr(), annot=True, cmap='RdYlGn')\n",
    "plt.show()\n"
   ]
  },
  {
   "cell_type": "markdown",
   "id": "29a99d39",
   "metadata": {},
   "source": [
    "На основании полученной корреляционной матрицы можно сделать вывод, что между парами признаков \"AveBedrms и AveRooms\"; \"Latitude и Longitude\" есть сильная корреляция.\n",
    "Поэтому удалим из выборки признаки AveBedrms и Latitude."
   ]
  },
  {
   "cell_type": "code",
   "execution_count": 395,
   "id": "6aa07c2b",
   "metadata": {},
   "outputs": [],
   "source": [
    "del X['AveBedrms']\n",
    "del X['Latitude']"
   ]
  },
  {
   "cell_type": "markdown",
   "id": "12a63c45",
   "metadata": {},
   "source": [
    "**Разделим скорректированный набор данных на тестовую и тренировочную выборки, построим модель линейной регрессии и обучим ее.**"
   ]
  },
  {
   "cell_type": "code",
   "execution_count": 396,
   "id": "38ddac80",
   "metadata": {},
   "outputs": [],
   "source": [
    "X_train, X_test, y_train, y_test = train_test_split(X, y, test_size=0.2, random_state=42)\n",
    "\n",
    "scaler = StandardScaler()\n",
    "X_train = scaler.fit_transform(X_train)\n",
    "X_test = scaler.transform(X_test)"
   ]
  },
  {
   "cell_type": "code",
   "execution_count": 397,
   "id": "2ed3a9a5",
   "metadata": {},
   "outputs": [
    {
     "data": {
      "text/plain": [
       "array([[5.54627302e-01, 4.09151981e-01, 3.28466305e-02, 3.20450372e-03,\n",
       "        1.44781522e-04, 2.48019673e-05],\n",
       "       [2.84625495e-01, 5.61920604e-01, 1.29655576e-01, 1.92803780e-02,\n",
       "        3.56680063e-03, 9.51146231e-04],\n",
       "       [2.83851709e-02, 1.66386215e-01, 3.90529809e-01, 1.69353480e-01,\n",
       "        1.44831417e-01, 1.00513907e-01],\n",
       "       ...,\n",
       "       [5.22140173e-07, 1.32542403e-03, 7.67564793e-02, 2.63989167e-01,\n",
       "        1.92572354e-01, 4.65356053e-01],\n",
       "       [2.23043229e-01, 5.48853831e-01, 1.80625304e-01, 3.58619866e-02,\n",
       "        8.62973621e-03, 2.98591259e-03],\n",
       "       [9.34705841e-02, 6.26711050e-01, 2.33830627e-01, 4.23654906e-02,\n",
       "        2.82028831e-03, 8.01960655e-04]])"
      ]
     },
     "execution_count": 397,
     "metadata": {},
     "output_type": "execute_result"
    }
   ],
   "source": [
    "model = make_pipeline(\n",
    "StandardScaler(),\n",
    "LogisticRegression(max_iter=1000))\n",
    "\n",
    "#обучаем модель\n",
    "model.fit(X_train,y_train)\n",
    "predictions = model.predict(X_test)\n",
    "predictions[:100]\n",
    "model.predict_proba(X_test)"
   ]
  },
  {
   "cell_type": "markdown",
   "id": "bcb8437a",
   "metadata": {},
   "source": [
    "**Вычислите метрики RMSE, R2.**"
   ]
  },
  {
   "cell_type": "code",
   "execution_count": 379,
   "id": "1c2eb979",
   "metadata": {},
   "outputs": [
    {
     "name": "stdout",
     "output_type": "stream",
     "text": [
      "RMSE: 0.8845683921043513\n",
      "R2: 0.5010673393921484\n"
     ]
    }
   ],
   "source": [
    "# Расчет RMSE\n",
    "rmse_2 = np.sqrt(mean_squared_error(y_test, predictions))\n",
    "print(\"RMSE:\", rmse_2)\n",
    "\n",
    "# Расчет R2\n",
    "r2_2 = r2_score(y_test, predictions)\n",
    "print(\"R2:\", r2_2)"
   ]
  },
  {
   "cell_type": "code",
   "execution_count": 398,
   "id": "a4c3a1f7",
   "metadata": {},
   "outputs": [],
   "source": [
    "X_2 = list(X.columns)"
   ]
  },
  {
   "cell_type": "markdown",
   "id": "8077edc4",
   "metadata": {},
   "source": [
    "**Исследуем оставленные признаки на выбросы.**"
   ]
  },
  {
   "cell_type": "code",
   "execution_count": 399,
   "id": "2f0d4141",
   "metadata": {},
   "outputs": [
    {
     "data": {
      "text/html": [
       "<div>\n",
       "<style scoped>\n",
       "    .dataframe tbody tr th:only-of-type {\n",
       "        vertical-align: middle;\n",
       "    }\n",
       "\n",
       "    .dataframe tbody tr th {\n",
       "        vertical-align: top;\n",
       "    }\n",
       "\n",
       "    .dataframe thead th {\n",
       "        text-align: right;\n",
       "    }\n",
       "</style>\n",
       "<table border=\"1\" class=\"dataframe\">\n",
       "  <thead>\n",
       "    <tr style=\"text-align: right;\">\n",
       "      <th></th>\n",
       "      <th>MedInc</th>\n",
       "      <th>HouseAge</th>\n",
       "      <th>AveRooms</th>\n",
       "      <th>Population</th>\n",
       "      <th>AveOccup</th>\n",
       "      <th>Longitude</th>\n",
       "    </tr>\n",
       "  </thead>\n",
       "  <tbody>\n",
       "    <tr>\n",
       "      <th>0</th>\n",
       "      <td>8.3252</td>\n",
       "      <td>41.0</td>\n",
       "      <td>6.984127</td>\n",
       "      <td>322.0</td>\n",
       "      <td>2.555556</td>\n",
       "      <td>-122.23</td>\n",
       "    </tr>\n",
       "    <tr>\n",
       "      <th>1</th>\n",
       "      <td>8.3014</td>\n",
       "      <td>21.0</td>\n",
       "      <td>6.238137</td>\n",
       "      <td>2401.0</td>\n",
       "      <td>2.109842</td>\n",
       "      <td>-122.22</td>\n",
       "    </tr>\n",
       "    <tr>\n",
       "      <th>2</th>\n",
       "      <td>7.2574</td>\n",
       "      <td>52.0</td>\n",
       "      <td>8.288136</td>\n",
       "      <td>496.0</td>\n",
       "      <td>2.802260</td>\n",
       "      <td>-122.24</td>\n",
       "    </tr>\n",
       "    <tr>\n",
       "      <th>3</th>\n",
       "      <td>5.6431</td>\n",
       "      <td>52.0</td>\n",
       "      <td>5.817352</td>\n",
       "      <td>558.0</td>\n",
       "      <td>2.547945</td>\n",
       "      <td>-122.25</td>\n",
       "    </tr>\n",
       "    <tr>\n",
       "      <th>4</th>\n",
       "      <td>3.8462</td>\n",
       "      <td>52.0</td>\n",
       "      <td>6.281853</td>\n",
       "      <td>565.0</td>\n",
       "      <td>2.181467</td>\n",
       "      <td>-122.25</td>\n",
       "    </tr>\n",
       "  </tbody>\n",
       "</table>\n",
       "</div>"
      ],
      "text/plain": [
       "   MedInc  HouseAge  AveRooms  Population  AveOccup  Longitude\n",
       "0  8.3252      41.0  6.984127       322.0  2.555556    -122.23\n",
       "1  8.3014      21.0  6.238137      2401.0  2.109842    -122.22\n",
       "2  7.2574      52.0  8.288136       496.0  2.802260    -122.24\n",
       "3  5.6431      52.0  5.817352       558.0  2.547945    -122.25\n",
       "4  3.8462      52.0  6.281853       565.0  2.181467    -122.25"
      ]
     },
     "execution_count": 399,
     "metadata": {},
     "output_type": "execute_result"
    }
   ],
   "source": [
    "X.head()"
   ]
  },
  {
   "cell_type": "code",
   "execution_count": 400,
   "id": "22b839b9",
   "metadata": {},
   "outputs": [
    {
     "name": "stdout",
     "output_type": "stream",
     "text": [
      "Наличие верхних выбросов в поле 'MedInc': True\n",
      "Наличие нижних выбросов в поле 'MedInc': False\n",
      " \n",
      "Наличие верхних выбросов в поле 'HouseAge': False\n",
      "Наличие нижних выбросов в поле 'HouseAge': False\n",
      " \n",
      "Наличие верхних выбросов в поле 'AveRooms': True\n",
      "Наличие нижних выбросов в поле 'AveRooms': True\n",
      " \n",
      "Наличие верхних выбросов в поле 'Population': True\n",
      "Наличие нижних выбросов в поле 'Population': False\n",
      " \n",
      "Наличие верхних выбросов в поле 'AveOccup': True\n",
      "Наличие нижних выбросов в поле 'AveOccup': True\n",
      " \n",
      "Наличие верхних выбросов в поле 'Longitude': False\n",
      "Наличие нижних выбросов в поле 'Longitude': False\n",
      " \n"
     ]
    }
   ],
   "source": [
    "for column in ['MedInc', 'HouseAge', 'AveRooms', 'Population', 'AveOccup', 'Longitude']:\n",
    "    # Определение квантилей\n",
    "    q1, q3 = X[column].quantile([0.25, 0.75])\n",
    "    iqr = q3 - q1\n",
    "\n",
    "    # Определение верхнего и нижнего выброса\n",
    "    upper_outlier = q3 + 1.5   *   iqr\n",
    "    lower_outlier = q1 - 1.5   *   iqr\n",
    "\n",
    "    # Проверка наличия выбросов\n",
    "    has_upper_outliers = X[column].max() > upper_outlier\n",
    "    has_lower_outliers = X[column].min() < lower_outlier\n",
    "\n",
    "    print(f\"Наличие верхних выбросов в поле '{column}':\", has_upper_outliers)\n",
    "    print(f\"Наличие нижних выбросов в поле '{column}':\", has_lower_outliers)\n",
    "    print(' ')\n"
   ]
  },
  {
   "cell_type": "code",
   "execution_count": 401,
   "id": "76bb2130",
   "metadata": {},
   "outputs": [],
   "source": [
    "for column in ['MedInc', 'HouseAge', 'AveRooms', 'Population', 'AveOccup', 'Longitude']:\n",
    "    # Определение квантилей\n",
    "    q1, q3 = X[column].quantile([0.25, 0.75])\n",
    "    iqr = q3 - q1\n",
    "\n",
    "    # Определение верхнего и нижнего выброса\n",
    "    upper_outlier = q3 + 1.5    *    iqr\n",
    "    lower_outlier = q1 - 1.5    *    iqr\n",
    "\n",
    "    # Проверка наличия выбросов\n",
    "    has_upper_outliers = X[column].max() > upper_outlier\n",
    "    if has_upper_outliers == 'True':\n",
    "        X = X[(X[column] <= upper_outlier)]\n",
    "    has_lower_outliers = X[column].min() < lower_outlier\n",
    "    if has_lower_outliers == 'True':\n",
    "        X = X[(X[column] >= lower_outlier)]"
   ]
  },
  {
   "cell_type": "markdown",
   "id": "f12793e8",
   "metadata": {},
   "source": [
    "**Разделим скорректированный набор данных на тестовую и тренировочную выборки, построим модель линейной регрессии и обучим ее.**"
   ]
  },
  {
   "cell_type": "code",
   "execution_count": 402,
   "id": "3afc0b20",
   "metadata": {},
   "outputs": [],
   "source": [
    "X_train, X_test, y_train, y_test = train_test_split(X, y, test_size=0.2, random_state=42)\n",
    "\n",
    "scaler = StandardScaler()\n",
    "X_train = scaler.fit_transform(X_train)\n",
    "X_test = scaler.transform(X_test)"
   ]
  },
  {
   "cell_type": "code",
   "execution_count": 403,
   "id": "cd85c928",
   "metadata": {
    "scrolled": true
   },
   "outputs": [
    {
     "data": {
      "text/plain": [
       "array([[5.54627302e-01, 4.09151981e-01, 3.28466305e-02, 3.20450372e-03,\n",
       "        1.44781522e-04, 2.48019673e-05],\n",
       "       [2.84625495e-01, 5.61920604e-01, 1.29655576e-01, 1.92803780e-02,\n",
       "        3.56680063e-03, 9.51146231e-04],\n",
       "       [2.83851709e-02, 1.66386215e-01, 3.90529809e-01, 1.69353480e-01,\n",
       "        1.44831417e-01, 1.00513907e-01],\n",
       "       ...,\n",
       "       [5.22140173e-07, 1.32542403e-03, 7.67564793e-02, 2.63989167e-01,\n",
       "        1.92572354e-01, 4.65356053e-01],\n",
       "       [2.23043229e-01, 5.48853831e-01, 1.80625304e-01, 3.58619866e-02,\n",
       "        8.62973621e-03, 2.98591259e-03],\n",
       "       [9.34705841e-02, 6.26711050e-01, 2.33830627e-01, 4.23654906e-02,\n",
       "        2.82028831e-03, 8.01960655e-04]])"
      ]
     },
     "execution_count": 403,
     "metadata": {},
     "output_type": "execute_result"
    }
   ],
   "source": [
    "model = make_pipeline(\n",
    "StandardScaler(),\n",
    "LogisticRegression(max_iter=1000))\n",
    "\n",
    "#обучаем модель\n",
    "model.fit(X_train,y_train)\n",
    "predictions = model.predict(X_test)\n",
    "predictions[:100]\n",
    "model.predict_proba(X_test)"
   ]
  },
  {
   "cell_type": "markdown",
   "id": "b02787e0",
   "metadata": {},
   "source": [
    "**Вычислите метрики RMSE, R2.**"
   ]
  },
  {
   "cell_type": "code",
   "execution_count": 380,
   "id": "d030dd9f",
   "metadata": {},
   "outputs": [
    {
     "name": "stdout",
     "output_type": "stream",
     "text": [
      "RMSE: 0.8845683921043513\n",
      "R2: 0.5010673393921484\n"
     ]
    }
   ],
   "source": [
    "# Расчет RMSE\n",
    "rmse_3 = np.sqrt(mean_squared_error(y_test, predictions))\n",
    "print(\"RMSE:\", rmse_3)\n",
    "\n",
    "# Расчет R2\n",
    "r2_3 = r2_score(y_test, predictions)\n",
    "print(\"R2:\", r2_3)"
   ]
  },
  {
   "cell_type": "code",
   "execution_count": 404,
   "id": "d870ad20",
   "metadata": {},
   "outputs": [],
   "source": [
    "X_3 = list(X.columns)"
   ]
  },
  {
   "cell_type": "markdown",
   "id": "29697ce8",
   "metadata": {},
   "source": [
    "**Преобразуем математически некоторые признаки из выборки.**"
   ]
  },
  {
   "cell_type": "code",
   "execution_count": 405,
   "id": "2e8c0c98",
   "metadata": {},
   "outputs": [
    {
     "name": "stdout",
     "output_type": "stream",
     "text": [
      "Минимальное значение признака 'MedInc': 0.4999\n",
      "Максимальное значение признака 'MedInc': 15.0001\n",
      " \n",
      "Минимальное значение признака 'HouseAge': 1.0\n",
      "Максимальное значение признака 'HouseAge': 52.0\n",
      " \n",
      "Минимальное значение признака 'AveRooms': 0.8461538461538461\n",
      "Максимальное значение признака 'AveRooms': 141.9090909090909\n",
      " \n",
      "Минимальное значение признака 'Population': 3.0\n",
      "Максимальное значение признака 'Population': 35682.0\n",
      " \n",
      "Минимальное значение признака 'AveOccup': 0.6923076923076923\n",
      "Максимальное значение признака 'AveOccup': 1243.3333333333333\n",
      " \n",
      "Минимальное значение признака 'Longitude': -124.35\n",
      "Максимальное значение признака 'Longitude': -114.31\n",
      " \n"
     ]
    }
   ],
   "source": [
    "for column in ['MedInc', 'HouseAge', 'AveRooms', 'Population', 'AveOccup', 'Longitude']:\n",
    "    \n",
    "    column_min = X[column].min()\n",
    "    column_max = X[column].max()\n",
    "\n",
    "    print(f\"Минимальное значение признака '{column}':\", column_min)\n",
    "    print(f\"Максимальное значение признака '{column}':\", column_max)\n",
    "    print(' ')"
   ]
  },
  {
   "cell_type": "code",
   "execution_count": 420,
   "id": "71761dd7",
   "metadata": {},
   "outputs": [],
   "source": [
    "# Возведем в квадрат значения признака 'Longitude', чтобы избавиться от знаков \"-\"\n",
    "X['Longitude'] = X['Longitude'] ** 2\n",
    "\n",
    "# Вычислим квадратный корень из значений признака 'AveRooms', чтобы нормализовать их\n",
    "X['AveRooms'] = X['AveRooms'] ** 0.5\n",
    "\n",
    "# Вычислим натуральный логаримф от значений признака 'Population', чтобы нормализовать их\n",
    "X['Population'] = np.log(X['Population'])\n",
    "\n",
    "# Вычислим натуральный логаримф от значений признака 'AveOccup', чтобы нормализовать их\n",
    "X['AveOccup'] = np.log(X['AveOccup'])"
   ]
  },
  {
   "cell_type": "markdown",
   "id": "34a86a55",
   "metadata": {},
   "source": [
    "**Разделим скорректированный набор данных на тестовую и тренировочную выборки, построим модель линейной регрессии и обучим ее.**"
   ]
  },
  {
   "cell_type": "code",
   "execution_count": 407,
   "id": "08806993",
   "metadata": {},
   "outputs": [],
   "source": [
    "X_train, X_test, y_train, y_test = train_test_split(X, y, test_size=0.2, random_state=42)\n",
    "\n",
    "scaler = StandardScaler()\n",
    "X_train = scaler.fit_transform(X_train)\n",
    "X_test = scaler.transform(X_test)"
   ]
  },
  {
   "cell_type": "code",
   "execution_count": 408,
   "id": "0efa2f2d",
   "metadata": {},
   "outputs": [
    {
     "data": {
      "text/plain": [
       "array([[5.75037902e-01, 4.09623826e-01, 1.50617898e-02, 2.69575345e-04,\n",
       "        6.68345260e-06, 2.22692271e-07],\n",
       "       [2.89527300e-01, 5.72482912e-01, 1.22867841e-01, 1.34806506e-02,\n",
       "        1.43162898e-03, 2.09666924e-04],\n",
       "       [6.87872450e-04, 6.91316647e-03, 8.55089196e-02, 2.00052293e-01,\n",
       "        2.32460397e-01, 4.74377351e-01],\n",
       "       ...,\n",
       "       [8.45716214e-08, 3.28291658e-04, 4.32339169e-02, 2.45238443e-01,\n",
       "        2.17682320e-01, 4.93516944e-01],\n",
       "       [2.21186601e-01, 5.59032020e-01, 1.83531993e-01, 3.08491661e-02,\n",
       "        4.48346254e-03, 9.16757148e-04],\n",
       "       [8.47865549e-02, 7.19715301e-01, 1.86287508e-01, 8.80079608e-03,\n",
       "        3.81389507e-04, 2.84505663e-05]])"
      ]
     },
     "execution_count": 408,
     "metadata": {},
     "output_type": "execute_result"
    }
   ],
   "source": [
    "model = make_pipeline(\n",
    "StandardScaler(),\n",
    "LogisticRegression(max_iter=1000))\n",
    "\n",
    "#обучаем модель\n",
    "model.fit(X_train,y_train)\n",
    "predictions = model.predict(X_test)\n",
    "predictions[:100]\n",
    "model.predict_proba(X_test)"
   ]
  },
  {
   "cell_type": "markdown",
   "id": "5497bfc4",
   "metadata": {},
   "source": [
    "**Вычислите метрики RMSE, R2.**"
   ]
  },
  {
   "cell_type": "code",
   "execution_count": 361,
   "id": "31094839",
   "metadata": {},
   "outputs": [
    {
     "name": "stdout",
     "output_type": "stream",
     "text": [
      "RMSE: 0.8727129579516648\n",
      "R2: 0.5143516145662275\n"
     ]
    }
   ],
   "source": [
    "# Расчет RMSE\n",
    "rmse_4 = np.sqrt(mean_squared_error(y_test, predictions))\n",
    "print(\"RMSE:\", rmse_4)\n",
    "\n",
    "# Расчет R2\n",
    "r2_4 = r2_score(y_test, predictions)\n",
    "print(\"R2:\", r2_4)"
   ]
  },
  {
   "cell_type": "code",
   "execution_count": 409,
   "id": "98b3c7d5",
   "metadata": {},
   "outputs": [],
   "source": [
    "X_4 = list(X.columns)"
   ]
  },
  {
   "cell_type": "markdown",
   "id": "ae364b40",
   "metadata": {},
   "source": [
    "**Выводы.**"
   ]
  },
  {
   "cell_type": "markdown",
   "id": "a55dd3a5",
   "metadata": {},
   "source": [
    "Для обучения были выполнены следующие преобразовани я датасета:\n",
    "\n",
    "1) удалены признаки с высокой корреляцией с признаками, использующимися для обучения в итоговом датасете, как избыточные\n",
    "2) удалены выбросы признаков на основании расчета квантилей\n",
    "3) выполнены преобразования признаков с целью нормализации и исключения свойств не несущих \"физического\" смысла.\n",
    "\n",
    "b. Сравните метрики всех моделей. Желательно оформление в виде таблицы вида |модель|RMSE|R2|признаки, на которых проводилось обучение с указанием их преобразований|.\n",
    "c. Напишите свое мнение, в полной ли мере модели справились с поставленной задачей."
   ]
  },
  {
   "cell_type": "code",
   "execution_count": 419,
   "id": "24488196",
   "metadata": {},
   "outputs": [
    {
     "name": "stdout",
     "output_type": "stream",
     "text": [
      "+----------------------+----------+----------+-----------------------------------------------------------------------------------------------------------------------------------------------------------------------+\n",
      "| Модель               |     RMSE |       R2 | Признаки                                                                                                                                                              |\n",
      "+======================+==========+==========+=======================================================================================================================================================================+\n",
      "| Линейная регрессия 1 | 0.965239 | 0.405915 | ['MedInc', 'HouseAge', 'AveRooms', 'AveBedrms', 'Population', 'AveOccup', 'Latitude', 'Longitude'] - без преобразований                                               |\n",
      "+----------------------+----------+----------+-----------------------------------------------------------------------------------------------------------------------------------------------------------------------+\n",
      "| Линейная регрессия 2 | 0.884568 | 0.405915 | ['MedInc', 'HouseAge', 'AveRooms', 'Population', 'AveOccup', 'Longitude'] - исключены признаки с большой корреляцией                                                  |\n",
      "+----------------------+----------+----------+-----------------------------------------------------------------------------------------------------------------------------------------------------------------------+\n",
      "| Линейная регрессия 3 | 0.884568 | 0.405915 | ['MedInc', 'HouseAge', 'AveRooms', 'Population', 'AveOccup', 'Longitude'] - исключены признаки с большой корреляцией и выбросы                                        |\n",
      "+----------------------+----------+----------+-----------------------------------------------------------------------------------------------------------------------------------------------------------------------+\n",
      "| Линейная регрессия 4 | 0.872713 | 0.405915 | ['MedInc', 'HouseAge', 'AveRooms', 'Population', 'AveOccup', 'Longitude'] - исключены признаки с большой корреляцией и выбросы, сделаны математические преобразования |\n",
      "+----------------------+----------+----------+-----------------------------------------------------------------------------------------------------------------------------------------------------------------------+\n",
      "Наилучший результат по метрике качества RMSE показал метод Линейная регрессия 4.\n",
      "По метрике качества R2 все модели показали одинаковый результат.\n"
     ]
    }
   ],
   "source": [
    "# Создаём список с данными для таблицы\n",
    "data = [['Модель', 'RMSE', 'R2', 'Признаки'],\n",
    "        ['Линейная регрессия 1', rmse_1, r2_1, f\"{X_1} - без преобразований\"],\n",
    "        ['Линейная регрессия 2', rmse_2, r2_1, f\"{X_2} - исключены признаки с большой корреляцией\"],\n",
    "        ['Линейная регрессия 3', rmse_3, r2_1, f\"{X_3} - исключены признаки с большой корреляцией и выбросы\"],\n",
    "        ['Линейная регрессия 4', rmse_4, r2_1, f\"{X_4} - исключены признаки с большой корреляцией и выбросы, сделаны математические преобразования\"]]\n",
    "\n",
    "# Форматируем таблицу\n",
    "table = tabulate.tabulate(data, headers='firstrow', tablefmt='grid')\n",
    "\n",
    "# Выводим таблицу\n",
    "print(table)\n",
    "\n",
    "data = pd.DataFrame(data, columns=['Модель', 'RMSE', 'R2', 'Признаки'])\n",
    "data = data.drop(data.index[0], axis=0)\n",
    "data['RMSE'] = data['RMSE'].astype('float')\n",
    "data['R2'] = data['R2'].astype('float')\n",
    "\n",
    "min_index_RMSE = data['RMSE'].idxmin()\n",
    "min_index_R2 = data['R2'].idxmin()\n",
    "\n",
    "print(f\"Наилучший результат по метрике качества RMSE показал метод {data.loc[data['RMSE'].idxmin(), 'Модель']}.\")\n",
    "print(f\"По метрике качества R2 все модели показали одинаковый результат.\")"
   ]
  },
  {
   "cell_type": "markdown",
   "id": "cc2b6a15",
   "metadata": {},
   "source": [
    "По сравнительной таблице можно увидеть, что выполненные преобразования начального датасета позволили улучшить качество модели."
   ]
  },
  {
   "cell_type": "markdown",
   "id": "28c6c5cf",
   "metadata": {},
   "source": [
    "На мой взгляд задача была выполнена в полной мере."
   ]
  }
 ],
 "metadata": {
  "kernelspec": {
   "display_name": "Python 3 (ipykernel)",
   "language": "python",
   "name": "python3"
  },
  "language_info": {
   "codemirror_mode": {
    "name": "ipython",
    "version": 3
   },
   "file_extension": ".py",
   "mimetype": "text/x-python",
   "name": "python",
   "nbconvert_exporter": "python",
   "pygments_lexer": "ipython3",
   "version": "3.9.12"
  }
 },
 "nbformat": 4,
 "nbformat_minor": 5
}
